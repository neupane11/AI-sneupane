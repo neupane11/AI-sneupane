{
  "nbformat": 4,
  "nbformat_minor": 0,
  "metadata": {
    "accelerator": "GPU",
    "colab": {
      "name": "chatbot_seq2seq.ipynb",
      "provenance": [],
      "collapsed_sections": [],
      "mount_file_id": "1wO-AeU1x10u8RdjqWrvl-usyG0m9Go6F",
      "authorship_tag": "ABX9TyOjgYt1DSQ3EXMKsE1kwziK",
      "include_colab_link": true
    },
    "kernelspec": {
      "display_name": "Python 3",
      "name": "python3"
    },
    "language_info": {
      "name": "python"
    }
  },
  "cells": [
    {
      "cell_type": "markdown",
      "metadata": {
        "id": "view-in-github",
        "colab_type": "text"
      },
      "source": [
        "<a href=\"https://colab.research.google.com/github/neupane11/AI-sneupane/blob/main/chatbot_seq2seq.ipynb\" target=\"_parent\"><img src=\"https://colab.research.google.com/assets/colab-badge.svg\" alt=\"Open In Colab\"/></a>"
      ]
    },
    {
      "cell_type": "markdown",
      "metadata": {
        "id": "HxposKHOuV8u"
      },
      "source": [
        "**Deep Learning ChatBot**\n",
        "\n",
        "In this project, I am going to build ChatBot using seq2seq model or encoder-decoder model in TensorFlow. The objective of the model is manuplating given dataset to make a simple chat bot."
      ]
    },
    {
      "cell_type": "markdown",
      "metadata": {
        "id": "MambnTav1GcS"
      },
      "source": [
        "**What is Seq2Seq model**\n",
        "\n"
      ]
    },
    {
      "cell_type": "markdown",
      "metadata": {
        "id": "1NTQpbG8pS5e"
      },
      "source": [
        "Seq2Seq is a method of encoder-decoder based machine translation and language processing that maps an input of sequence to an output of sequence with a tag and attention value. The idea is to use 2 RNNs that will work together with a special token and try to predict the next state sequence from the previous sequence. \n",
        "\n",
        "\n",
        "\n",
        "![enco_deco.png](data:image/png;base64,iVBORw0KGgoAAAANSUhEUgAAAq4AAAHHCAMAAABJMio7AAABhlBMVEX////c59Ld8PgBBAADBgL9/f3b7vb7+/sFCARbY1e0vqyHiYeksre7vLs6QUGSm4uJi4kRFBA9RER2gYWqq6prbWtFR0S8vbzR0tFERkMgJCG5urnI1MA9PzwhJh5LUUewwMUzNjImKiXN3+ahr7Sir7SoqagMDwvo6OhZW1nz8/O+ybbt7e3d3t2Njo13goZXWVY2ODUtMS+2t7Z4gHPb7fXv7+/i4uLS3sm/wL+anJpsdnlLU1Q4PjRqcmUpLSuep5dmaGZMTkw5OznMzcyChIIvNTTCzbmGiIZocnRCREH5+fnJ2+K/z9aSn6OgoaBYYWNGSUbQ4ejd3d3Y5M/O2sXDw8OGkpb19fXm5uaVo6eGjn8cHxvs7OyrrKups6FfYV/E1dzB0ditt6aRmop9hXdaY2VSVFE+RDoVGRXZ6vK2xctrc2bq6urW19aDj5OPkY9+io3F0b13eXdpcWRPV1hOUE2+ztXT1NPQ3MeZp6uYoZGVnY59fn1hY2FHTURwe35udmkpEwbvAAATX0lEQVR42uzbMYvbQBCG4YVPSwohkCphX+UUNgQZ7JRugkBFOmOuSWOTNs01blLdb488yhE54c6prB3ufQqBd9oXMUhyAAAAAAAAAAAAAAAAAAAAAAAAAAAAAAAAAAAAAAAAAAAAY6dNpVneBCB9rcziGIDUnTKpmktqYwASt7VQd5Iew7U6zx/D68p8R+C4ryaTjkO1f9dXSg9vBJlpRq64rzrTIg5ttuSKxJUaqjv19ZErEldK5zjcZasY1kWxDqGxa91KeRft6GRb7Mu47q/rItPigadfuKuNlP/OVTGU9qvOLtdMvVm8HG0lLWP4M/4aSxs/cH/FPR3+I9dKvTm5YnKv52q7qx1pWXzsL3GcK7srbpsk13YYkCsmdTvX0dGGXDG127naGtD1cZIrpna+matdA7kiASW5wo9SVp29jCVXJK626oZs39hda3JFAhpbAuwj7ZwnA0jd1hJsfkid3WvbGE7XuY5DtTG5Yio7SW0+H96yrjPpnFfScpyr8p0djcbkimlsZYb3/weZ+TGMcq3s6GrMB4SYRtNagctoPyzIWRfGueaHft7F0TiSK6bSFEU3/tH882C2K+LLuC74yBXJuuTKXRROkCscIVc4Qq5whFzhiP37FQAAAAAAvEf7Pc+w4MXTavUzAC58+yx9+RQAD57V+846AA/2mS5YX+HA00qG9RXp6xdXw/oKB55lWF/hRqYPAXCCXOEIucIRcoUj5ApHyBWOkCscIVc4Qq5whFzhCLnCEXKFI+QKR36xd6+tTQRhFMdn56wSBF+sGMXLmiaCMSLFJJhQElpMiFErBYMtVqIYW2nVFqvUghdQv7mKLih4GYXN5Azn9xGGP8Ozs5ONchUiylWIKFcholyFiHIVIspViChXIaJchYhyFSLKVYgoVyGiXIWIchUiylWIKFcholyFiHIVIspViChXIaJchYhyFSLKVYgoVyGiXIWIcv27VnNQ64+rmGXVcb02aLbMjNCSedKe78dgEffn28a79nyqJfNirRcD2F7c3Bi+iWbZm+HG5uI2gLi3YLxaOygAONZZmZuM7CwbTeZWOse+LVkQ/yu3kAIovbsbsbj77gBA6ivYbMm6b59ZFlffvgaQnqQPdr0GVPZXIy6rixWgtm68WH8ELN08b7mMOktAjXwkOJ6guhMx2qkiuWA8eJig2jls+RzuJEguEG+wy0WgNIw4DUtAcdlMUbZk3ceW0+MuULxnSF06BTyJeD0B0gdmqi6dAF4ybq3fvYyR7hpKu2WcOxIxO1JB46KZot06Ts9ZZs+X0Fg3hFplNFgHgcyrMsotMzWtMq6zDgKZ232ULxs6y7fQOBuxO1vGranNr8uncP22Zfel11t882sR59j31q+G51A8ZKajiMrE8ptUcI3tfOA4wD23Zo4AF8xUPASe2xA8j0F2ntVOqM8EfvQESdtMQTuhPhP40Ys44XpfsIVSFIoStqaxV2yhG0it1r7GFtMdxQU85X/Mypx9iqMmT9mS8T9mZW6PcYZoHEjB+eb11z4hzX/tU1C+ef2Nj3HKs72uoRKFpIIFk7M1LAVUq7UN8Nwn7GE/Csk+enmv/QFuBpVrJ+6xbK8XC2C7MfhnqyhcNHnJloztxuCfjQoFlnexe/gQheUD9kyu9tALanO1tot5kmkgxfsoLO/zfthKcd+G5T7Lw1YrBs8vXdzcRdwyOWoVwPNLFzdXC/EDw6CJ7Sg022iaHDVxLLBZwNo7aFJMAwMsRqHZwcDk6EZQh67Z2cCAItcr2IxCs4krea59DSvB5boSX6EYXuvYiEKzgXqeufbB/RuCX5mL6xS5jhHCRdefvcI4z1xPI4SLrj+bFMYUuVYx299q+R+rqOaZa4LZ/lbL/xgVqhS5AlF4gDxzjRHc6GptgeNDh8pVuSrXf6Jc/VOuzpSrf8rVmXL1T7k6U67+KVdnytU/5epMufqnXJ0pV/+UqzPl6p9ydaZc/VOuzpSrf8rVmXL1T7k6U67+KVdnytU/5epMufqnXJ0pV/+UqzPl6p9ydaZc/VOuzpSrf8rVmXL1T7k6U67+KVdnytU/5epMufqnXJ0pV/+UqzPl6p9ydaZc/VOuzpSrf8rVmXL1T7k6U67+KVdnytU/5epMufqnXJ0pV/+UqzPl6p9ydaZc/VOuzpTrZ/bu77VpKIoDePRbCx2jodpArSUtrc7+gE5mhTLW2afCBtPBYIPtYT4NfPJRX/RvN/ekxyU1uLZkNrf5fhF77s11Tx9uT2+TufmQ69Ih182HXJcOuW4+5Lp0yHXzIdelQ66bD7kuHXLdfMh16ZDr5kOuS4dcNx9yXTGPz7X2sw2v2ndqVU03mO1XqzXHiU2+0opcM5YccX0FSc2pQiNOgcNnTmzS04pcM5b8cO0iSK+9yNWMPHIl140lmesQOL0I9tgLGQG6xtNSJ2Wqxt41i8kP1x5wqXWUaxtAjVzJdRNJ5qoWE0ZdwMMeuZLrinl8rt0Erq/Q9jB8Rq7kuqEkc/WA9wlcD+Ed4pRcyXVTSeZaBdrdv7n2MKwCfXIl1w0lmWu/DfT6f3EF9mpAjVzJdVNRivFcQLzGudaAy+DC3gJXifeMXDOWHHF1XonXONcqcOEYmeTqWJA8cRWvP+Ofqn6a1x7ai1zfeZ53SK5ZS664itf3Ma4vzR46BLrsXR0Lki+uziFwGt1Iu3J/SzVATK6OBckZ134buIjIvAT25jdlkasFyRlXlagyq0DP83qAR66OBckb12GcqwcNuToWJG9ce3GuwOletVo1s+RqQfLD9eJyfjTQv+d6Afyc9wR75GpB8sO1htOhB2B4fzKgTJ1LmY5yHfJZrSwmDa5TN0xDykYw03DdaXitMWqieSPl7bGPkjuWWVcyMLWOzD/RsvEoXCXt6N0s2sl2gdMI18d9+OXqhclVR0dhzmR0djfD7ER+/vVRBeUXHZndlyUtU8tIclXU8oxcV0gJYXakdIOZHaAUSobElCNImmO5HmYkeHVUui+n6XPtDxHE6zoRri+BUG9bin9y/dVPietzSCpvipERXpvRFSSmvIPkwHjdLUByLnh1VC5qiW9Fcl2TazPCdQAo11sA/sQQVaCQQTJXNNLkqmBrta6zdgoHP1LlikprkWurAOV6HZSVuiFaVKAySOaK7+S6CtediNyGcpWhPw3UBmVTbE4j1xsjIR7Zi/WCWZu5X4tRwNvPz1Li+qZ4XTHeZCRS9Uol2CgN45nYvDISBWi5eHYXog5HZrlekLXkuiZXVwHK5nobXhgDGIdqp3+uH8vLIlfZiScZ5Ap86afFNdhJ5SXCVaY+hXUnKDuh2m9FBXoElBO4mp24/oFc1+Lqo/kHoKvszIyZl6lRjPM4gesTAJnkioMfKXEVfCdxrvtA/d7hrBhOnStX4dxJ4Pq0AJDrulzREHXhhZv5BXdO8lZeFSiAncfhiseJaQhS4SoSy3GuzwWwyhWS1+JRgRbMWnJNk2swcFWdD9wqV5ErHv1Yb+vmlWtADXGuFeCTchW5sqiiQGXtC3JNlWsz+BNRpxeOBaZ4xINcB0Apm83Ax5rjPBrXwn15JDDDRR8e4toK/uZHrfW4wgUaoboGgLFeSOCqe+4iV7GdSa4pftQSnZ0o1zMzoWsSuOqeu8hVbJPriueu2q0OAFfUhTQf4KrrAG1jJ6MJ4I8zyFUOslLkKq/PY4eoxQe46jpA29j6eR2odHjuuibXJxM01+cKSWmQvV9HXDCNQPa4mpRb/FZrJa7NUql0M+c6Albm6peCDKRs+sA4g789W7+ETZ/rrFwun6zEtVIO0pLLBxWgw3sG1u5dzVnVdDWu8d51BLgZ5KpJm6v2rstzjfeu52Ypua7N9YmPY+hHLX1Xv0nmmnQyYHbYnHAtLn7Uas3XnCRzTToZeFPAAbmuzbUR0PRLiwdZ7goHWRMgg72r5r8cZO2vcJBVB9i7rsFVywHgC8BJaFTf9vXLWAWqdxAscJXjre3neg3U41zrojH6rZY0pwpU7yBY5LpfwAm5rs3VMA25HotNSWK3OgYwSLgjC/C3n+sJcBTnegTMwjK5W+2YbiHhjqwCKh/IdX2uNwgBTqFXRKZ5HUXf/qficpGr/JTbrecqe2mM6xW0Fpmmuou+/V8FLpPuyHoOfOLXBOtzHcy5jn3AH4RXmoAbzgxU5Y4PjBK4GsbHW861cye3ssa4dipyz7ZkZpzKTEtV7laA8wSuhvERua7CdRQ+YaVyJ9C3fgO3NJGd1KyaAGYgJ61BDX8cjiZuEG1jBXVjm7nOyoB4lNG5Pm+1jyDlct3spDDzdcAM5KQ1qFHphEbr4bNac66dr4F8cl394RfleqP75QgS2V51lQA10a1XR9rUhi3DNnOVnP/9rNYdJKac6bxwjT4uoyNtauctA7muyTV6S5XrG5XSvQrdya0CxeTYHT9J5Cr77XZzLZ+Y/jXONch+xag0ZUfo1j8VFWj9SB6LTeAq++0Hck0lgx1tbMc7Ow+ep+b+vzBu7e5qK7u72/rHQv6egW2JzVyXC7luUciVXC0KuZKrRSFXcrUo5EquFoVcydWikCu5WhRyJVeLQq7kalHIlVwtCrmSq0UhV3K1KORKrhaFXMnVopAruVoUciVXi0Ku5GpRyJVcLQq5kqtFIVdytSjkSq4WhVzJ1aKQK7laFHIlV4tCruRqUciVXC0KuZKrRSFXcrUo5EquFoVcydWikCu5WhRyJVeLQq7kalHIlVwtCrmSq0UhV3K1KL/Zt/uXpsIwjOPPs+sEh36ITjSC5Uk9gZsUsheayGSjjSHlUJItLCrMFzQ1M8mgF6j+82xwAimIoDN33V2fP+Hmy7N7zzlHuSpXIspVuRJRrsqViHJVrkSUq3IlolyVKxHlqlyJKFflSkS5KlciylW5ElGuypWIclWuRJSrciWiXJUrEeWqXIkoV+VKRLkqVyLKVbkSUa7KlYhyVa5ElKtyJaJclSsR5apciShX5UpEuSpXIspVuRJRrsqViHJVrkSUq3IlolyVKxHlqlyJKFflyqOPULn+nf0wpMi1iA/emglEWeYaYS1nze0wosj1GZa8NUsoZJlrAS9z1mwGBYpcK9jy1myhkmWuHUzlrJkKKhS5lrHtrdlGOctcZ7FibnldCcoUuXbR9NYcousy1EXDXK6NoHvJEahhz1uzh5rLUA3XzOX6CDWKXOsB+t6WPoK7LkP1EPs5W+6FwWtHIcZnb8tnxNmeFDGe5mx5GsQUq6tzx/jibfmCY5epY7SNbQOLmKPYBZwrhRh4SwYISy5TpdDYg4K1MHziSLTxzlvyDu2sT4o2Hpg6XhtBm2QXcO4xEm9JggWXscdomcq1igWSXeBMjG/ejm+Isx99bOrq9SvNH60fbuDVhLdi4hVuuiylI+vlrOg9w02ew9W5XUx6KyaxO4rR72LRzPF6il2iw9W5+Qg73oYdRPMuW+nI3hrp9U1wNjIqM8Blb8FlYMaNxHXgIGfBQYAZplXghzySE8/vJEF+VKPPI7GwvvZauM9Wq1t+iGn+v1sTFcTLLnvpyDr8vfauIF53dJ5XMc3+WcHJNKqv3SikI6ts5rj1OqiWHKHSNG5x76+Xk9GNPh1Zwr2/HrRQpXn6el79IajvB3aA+LkblXRk1PcDbwPEJO8N/mo5D0yyLgRLk0B+2Y1QOrJF1oXg5SJwn3Bv/el6hOKhZ3RYRDTjLsCLCBHn89ivESK6G6zznswCSZPtfcJBMwFmL2AHS0fWarC9T7jWaAGzZE8HfmMhBvD+E8/3MP1P7wHEC+5ipCM7/cjzPcy9j6cAOje4j9Z0+u0AwF5ze+vOYJyr7Q/ubG039wAE7QuK9fzIrjVWpjZvj3O1+7c3p1Ya14YjI3pj8A/m5zoBWASduTH4TSMb2dUxGNm/VK91y5VCFGJ8hVGhUu7W6m5MaGT2rK46ERJHxeKRE6Gw3gJazBfT8j/ZwJkNJ0JgFUNaX4XAURFDWl9l/K23MKT1VQhsYEjrq9AAnAgL5SpElKsQUa5CRLkKEeUqRJSrEFGuQkS5ChHlKkSUqxBRrkJEuQoR5SpElKsQUa5CRLkKEeUqRJSrEPnOzh2rRg4DARgemFKoMCzbu1/D1u4CfqN7fzjW2ISADy7VapLvK8wgt38hhJBcKUSuFCJXCpErhciVQuRKIXKlELlSiFwpRK4UIlcKkSuFyJVC5EohcqUQuVKIXClErhQiVwAAAAAA+PmW1taAGnrmPaAGuVLIN3LtrS0B3/DGXFtmD/h/cuU3kyuFHLn23uOxrksc89Jucc4R2+vbPzLbFvA2Z66ZeZsyp37MmTlH7HNE3DP30SkCb3CZ65RHo+e8ypXBfOba4paZsc/P3o50z1ztXRnAZ64RMZ+5LhFTplwZzJdc718T3eTKWC5znSPimdnlyliuct1XmlwZjlwpRK4U8s+9612uDMfJAIVc57rFYzpXlohZrgzhOte5P3PfEnxkzu01y5UBXOZ63hnYf++aXBnAda63KfNPvKzTq97mviuDysx49CUOW3fJlXGlt4ipQ64UIlcKkSuFyJVCendeBQAAAAAAAAAAAAAAAAAAAAAAAAAAAPxtDw4JAAAAAAT9f+0LEwAAAAAAAAAwCnRA85/M0cwCAAAAAElFTkSuQmCC)"
      ]
    },
    {
      "cell_type": "markdown",
      "metadata": {
        "id": "ZcfwnEOtsLc9"
      },
      "source": [
        "![2rnns.png](data:image/png;base64,iVBORw0KGgoAAAANSUhEUgAAAyAAAAGXCAMAAAB8/sS+AAAC61BMVEX////c59Pe8Pj/87H9/f3g4eDIyMj7+/sZGBkaGxTFvYix9KQcHhvLy8va2tr5+fnr6+sbHRjUy5Pk5OTc7vbMzMy5urni4uL49/d0dXPg1psgIx/y8vJpa2n09PT+8rDu7u7w8PDDxMMMDgr29vb88K4QEQ3a5dEBAwAeIB3b5tIsLitGTELm5uZQVk0lKCSXmZdeYF0nKCfs7ewGBwTY2NgRFBBERkM7PjspLCexsrGmpqUJCwfb3NsuMC0ZHBhSVFJGT0+Gh4UwMjDa7PPo6OgyNDEXGha8vbydnpwTFhIqLCuv8aJISkdBQ0C+vr5RWltoamjOz87FxcXBwcA5Ozl7fHojJyI+QD20tbQ1ODViZGH57axLTUnS0tL266qsraxNTkwzNjO3uLdVV1SDhIPV1tXU1NTq36Ld3t14eXd+f35lZ2Wpqah1dnSPj45PUU/f4N8VGBWJiojy56eSk5JaXFlYWVeam5o3OjcUFhPu46Q2NCWVlZQjIRcXFg/X6PCur65rbWsdIRvQ0NCRkZG/toRwcW+BgoCspHZIRTChoqEpKByjpKNub23S3clcXVyVjmY1OzrY489OSjQ+RERhXUJ4g4UtNDKTm4yr7J6krZ1bZGXDzbuyvKqMjYyBiHuKg164wrAxLyHL1sNocnSfmG3k2Z2DfVpoY0d3clJcVz46TzafoJ4qOCfHx8ea1I7JwIu5sH9yc3E+Oyp9d1VafFPV4MxybU5UUDkhKR/c5tNuaUp4pW8lMCPYzpWzqnvJ2uHP2sen5puPxIWQiWKe2ZIyQy7U5u2knXHc0ZeEtnqakmqWz4t/rXZvmmfe1JlLaEZDXT6j4JdCPy26yc+VoqaTy4hDSUDC0tmeppeKv4BpkWFkiF3P4Oe1xMra0JbRx5DOxI29xrWerLGIkILb5dLG0b5RcEuttqaosaF7gnVtc2jJ08HAyrhCSUnM18OntrtvenyvvsOJlZhzem5OVlaAjI+Ol4iHh+F/AABJM0lEQVR42uzdXU/iWBjA8XPx4LkBy4YgNe00hZJGQgwiUEURjQbRMUJEEMVAVJSJoqIlKpp4oWGiiVnjN/ATmLnwC+4pszs4+2KiwqDZ53cxHZumJqf+oeeolSCEEEIIIYQQQgghhBBCCCGEEEIIIYQQQgghhBBCqNPgZ3/taG6au5sIeql/jiT51w0BHOl3RUxZLJYQF7CbAEypACHUcfHVRYGv1wZSPNtnsdi3OSBciR1Xl/iCxZKS8bq9HJjsFks3D4SGLGwMRQB3avbmECAwU7lwUOI2RtYKBGTjinTTWONwHOlOK52azeYJZzJ6KXHXUReBxYwWnHbS0aymDY5SrjxuNs/9zhN5nR033G1LsM1dP163F6NfBTaS5xKIu2wIvSngq4KiVCG2G9fO1rvBMWxciAIFl4/9p9e95zGbfbMcQZ1VEDLntRGuRxe2uV49SeSJyOZAjT/Mec6PzFETd6U+lgUhDYGcUK3tyY6wt5KPPGAgL0Ynlctrn6eHOk+0rdqNFdIez86AC0bVidFVpZc3Zafu/eqxFZLq+kDNxT0ox1vC9BiOdIcVBD/PNj3j6o0RCKS1ZQcAFCN+nr9SVrireJqrRRa4QO7UwY5zhPPOpHJHCXp5ICv8jbrqdJ6YjS97/jYyKRHgVrUZKEWX+03ZAzl28HmFBbJFCYEHdUDaVS8wkA5jgbiNQAR9wmkEch+ZBCB0IFIBOhupGIGQbn0jxgIxfQ9EHFMTGMirAoFt7+khC6QbCAkkshYAYs2HQyCvh0NGIHDdt8Ul1es/A4GlvlkMpKOagYQT3i8sEDoRXIPG1bwA2Ave8UYg1uVw6EkgKXUVA3ldINZTxf49EDDFN2zGgA5nbETaVFxGIORCu5KagfCP2ggG0mEFYWhl5pDdYt3Fb670pJQIpo1AHpUVFkjfQSMQ8VhIBXLh0R475wgn7L3qKF621wXCJyIu+UR/6ElxKWVZYrtD7O6KBRJMNgLpMq+KSdVfnOlngUymTzPbONIdVhCC6tlX6NGXcnef9KQ8HPxmXM2rp4FI/ngykOtT1AOnIxyf0h5jeNleFwgdiqw4T4KKuimnlSHuH4GkPAdyUomo2h59iAwK0VFcxeo0YxVrNkV69OqO4G8G8vhzIOPpxirWCu8IT2+Ml7CPNwWibbGRZIHw/xEIW8UK0QdlXltw4rcKO6u5iqXfFz1D48YtVk9jDvLzLVa28GMOMnSNd1hvucX6JjdWsSClDMuNOcjPt1gL4o85SHnj9BBHurOak3S9bMuEB5P0LnhjBHKu3ACMBj81ArFm5saak3SX585J0KsCieXihb8m6Z4pY4IRm58+BHHzrMsIBPa0XvePQM631DVcDemwZiA7/L7mScJ5ZJUnBPYiZaBflQHOCKR+tiw3A+nPe+z4wva6QEq+hO17IETOfza+/KVNTx1iQ94xIxC6E6w8Wea1jPslgjqrINwFJB5YIOzKxJOk7on/HpAh5cmYYiefu7grfcV0y2oJ5HIhyU1ZIM4btYIvbK8JZO+wrNxKzpPfCmwkua3IUF2WyGTkSE4K67IpO7+9uCG4IKkuiRJvBBKYCKfwpajDCkL4023FzQKh1mUWiHtL1eZPRPFSyU+wVSvuKng6rSZCLJD46m25nwUimqaGYwS9OJDIaVQdLlDnieK/3dmGsaGILz8LdW/cv6HVqMkXT3g+X0uQVHKXtzc8C4SraVVcxuqwUGLQ5zsWXaf3lNs6/UaIXI0K6yKM7QrCZgq4SV94s1oCIm+y44bG+ud3JX4p842gF6IDXl++WqBEvGIjmSsA1O+y2RrlRjKC9zpAbEODuU+jMsC3qUHf4JJ7bXoPxhILON3rMHBLkuQGKnEAnEQJALWanMD22xwSELZP4in8OA7cvHEc3mK9WHMkeYmh34eYAwDZFOOgMcAcsC2VGJ5tOLYPf979HQIAQvDXddoPmD/Hu92glMb3ItRGVPrQL+ZwG8alR9RGjqUHN/m44NKHgaA2KgnHIvm4MBDUXqUsBoIQBoLQ+wiEmlym0heeS9VjrpK0ne7mWtBBwFWwpWSAWNplBQLOrqSJEvZRaAEDQU98gEAO1+MTuXlbbC57PO69T+jeNJC3EnfGN459M2Ca0OObYyDvm/WMHayr8eVhDAQ99e4DgUrkuDqecfSbteqtMn20GpzkyBtBSdioevUiHGm9Zb3C98T91fiue0UbqsxlMRDU9P4D4ReExVjOCESwFsJ5OR3fensgI+pX8VEviuvRUL9wJ19rycCx11Q5W3Me4zsIeuL9ByLeeUN8wggk6wxF886U+e2B0AdtjVb0om14PuYMz/WvqyFxN1svj6cpTtLRUx8hkGiIa3Ugs9oaHOlFx/C6VcpnHTl1zH2VTbFAcBUL/eT/HYhtOG8Vp322eXVMWsim8B0E/d37D4RfGKzLmdYGAmtqjavqRXl+Y9sqHAT2tUWnP7xdiRfdfgwEPfH+A6H3nyfXPC0OxBJfT26eFaF8dlTTt6Q1bX/Nt+kciV/2bOAqFnri/QdCShvavNDiQGS/MjXPAvmS+Kwl6tB/p+mDRWrLqxkMBLWVPLLIkZairvOuYlFyr11wzpUkF1gr0DcHwhWORib1ItDQwECIErDdnFs4gPr5jGskQBBqKyAtBRRIa0HhMU3vWSDGudk/BIA2No3PhO8g6H8OunT/4rGAj0JB6N+AWDbHzfsiBoLQvxdST9exD4T+Az5qAyGE3hvgZEraAngZgLSFG/96AvpFaI9/G0g70ItVG5B24G4u8S8doV+jOxN8FEk7FKYj5facuWtOqX7kRxWhDwOsq8E+rcaRloP+k2CfPkpJy4FjPdj32wg+/Bq1H3ev9PX1DaYpaTV3OcLOHO0C0mIg9RpnztXxMcqo7b4cRIXgXLRXJK1mn496gt6pskRaDFxD0fGIdwpvslD7Ud69Yra5eWjDmfmbbMzNAWkxYGe+nwq4OZymo1+hx2Ml7THqk0l7HE1/5GfdoQ8FA0EIA0EIA0GIwUAwEPQMDAQDQc/AQDAQ9AwMBANBz8BAMBD0DAwEA0HPwEAwEPQMDAQDQc/AQDAQ1DJArSX7M871GXt7bHnS9vbYH3TZn5HqlvF31v9g7+5ZmAbCAI4L55JOviySwRvChYKDCkFQMwhOLn6CgyAuB44eLhcugxpJuCUQsoeDJE2nlBRaKDRLh5YOGfoBop/Ei4r4riBCwftBSOmTXqc/5KAv2p/+PeyjJ3cvG78QGH/jHFd++fDFPf0bWtofufRG1OHB/J/0V6Ls5uvrFzTtdy5eeyY7DCH4n0AIaXL3vv7Suvb7QF7dKDD4v/pQIKD146v6Jkv7bSDPYxP8hyBo/Kc6EO23gdzOMPgvMf+RDkT7bSAPZv/d/dVHnn9LB6L920DYdtRj8BkkWw98DZklAgo7UHwgCPwCJAMGCu5LhOjQexD8FCpNrAPRvnZmgexsS/EP4DNUBw38pqJ0TYGyF91WLjH4AewhMEKVOEB1Nv0NNWeGqAgEP0OzUwl1INpXziyQ3BG+76/NLwLZuN8FcoopUAoj6te7HwYSnj6+CCWxCRRTZKyyBLf36OeBrH1TB6J97dwCCTqsII94hCGsDhXIhBEEAaSEIgARI0QFAj1CVSC4ZJAyzIjKRE08pi4ZRXYIgQJZicbBILI+PpVhUBOCAKUQMnVQwrC6hFCCECVEB6J95+wCWUAFF7KSbXSUaYM3TtX6ew+9zS6v3yE0iUUuY0pyPl8F0dBW3irdn2SE0CLmVbuhqgo4BoLUCaBc9rg7yYpnh9UOb4268nuUbyiLa3plw9vC8+Zy4799Nxerkw5E+9a5BeL4aZrucOIE3A04n87oxuHcNsIytbl96s3W4tyNWWIZPLCjK3zlZYHkjjAHaXHDmTNVRZFKtU6H1MPaGLZiHGQMQZwbUccXLJX9O2PXx+r5YE9jh7dN7KpldSDat84tkKnjOG7mJW41pFbxVqRk4+Tl0V52wfKQB/vO2pSdHZOWh+ba+hiIXfTr4N3eqsqj9SGQ2nWmjpV8DGQ7Dgo7YwAt+JyYsmoEDwvZREFdhuJUxnZnToL5EHIdiPatcwvE3jVN0+PkTogzscV+TNQeBA0i2zncF05e2B0kMi7FmsJd8DEQMaA6aBIrRAcxBgLNJreShsCPgSTWhwUYmsj2LcKb9e6ULbOY5MEE0hnfxoYJF0GCWaoD0b51boEEC6DgJJigmTh8CMRZoHd8dnSzJK8me3uPehGXMiao+hSI7NEyaAqrU9fN2Veb9DGQoxq85RndtnKCIOr4aVn4fqXeo0NkLYb4MoFhUHlE70G075xbINYyiqIF+SqQtJi7xzCI9zM/bIy2WLkxm1nLQlpfBhLacTGf/iCQcZA5GamdLIreYlPc6a4IO0Sh0e4rOyNjIAcuj0u9B9G+c26BTEd88lUgvuukpVcFU2tD6cp2ZBDTUE4DaX8ZCMtcKzY+BVIuCPgUyEDmriPs7J2cKiuPZnKgp7aEVK3otm+9MRBc2VNu6EC0b51ZIGE9yvtJ1aNoR1BSeN2ySfIeQRrVRwIRO1ZNUmDcLKOwukLyDkc7hhaVaXZ5MhEzChT46QBqQFCZ5JNdtK1qpcMoLDBaRB6AtFsmA8JFTgFkURUWCdMfNdHes3cvLQlEYRjHB+aNgQhnQiqhy0lwgojImKIsDSGaRRARgXSPTMOu03UT2cqGoMsq3LeqaN2iD9CiaNkH6KPUJrpgR9MOo/j8VgMHH1d/XAzOCEaxAgJhvCM+Zp+m7YeWu5k8vvJzHb8gIBit3c7LDmCJi2BX16Gty05JHJwgEMiGjl6eZCfor9f3N/YMk51iH4wiEMiGQublvOwExnSdOdYHS6QXNAkgGyUZeN7Vy+xPU0y/uhtYxHvUIQcN8UD60a4sK/bzhXnmkQCyIvKNNkZbq363HayuEmNf2PJwkHtc3xupUfFsRcgFSdQ05Obor55zi5Gs73YL0R5vc3HPNQ/qADy8GiATBIJAgAOBIBDgQCAIBDiEBULKT/SukED4y4RAoOh9CcSIjXy32RnpT2lK4YG4wz+Xp1fX5wwFgUCxc+00fVx645HvNsbCUx3hvZBKUh5Slu/jUsuwHO2I+bfyWx5P4t0GUATIYyzXnkd7rQqF/v5h7qHPCE2OmRN7dXks4yYHFA9SXf5oT5+P/n2Y1G5rcLYWN/WglJEkqUtrActLIpZTnW1+vE4QShtRs99cMUjEsmaZx14UAm/snU1PE1EUhmdxYBYV24YANS0NRWJiGlIM0lIMrZGAiEONUC1IIICAAUVBIx8mLrQYSIiG9Wz4A+PQhKSLSTqbNp1F02naLrpou+dneO+d6bRaNC7EhGTenU/uTM9J7ivno+KlFoBlfmT5Qv6mh66vQ8d23SG6LrWAMt55+MBC/XsBZdl5uK5/N13X5RZA18HQ5IX8CAHb2rM9/UeIrsstANPSrQ7qAgTQPNvuoHTputyC0ZF5oC5CMDCk/5e0ui69LDPbFzNvAvvSK/27I7r+rwBsK53BvV4aqsje1xmcGK4lXYOTwZbuKgHaNBGc7LMDaKC7KXgyiPeEMO1qAowsqyfBpjZjzWuMDY3BxoafSDN6bNVSJUo4Jrr64o65YOeLDgxg3TkHVeaoiZB2rAQ752qygLosUIgtwZOrXVVgbEPhbOobSF1/EH0yMxQOe+9+skPlHu19XkRk9o5Du6R9a7ths8vT0wsqsK1veP3hkcctRlBAx864y2/dfd1HA9U8fmBEaPVlv9XvCnwZ1l7T/W5K8AtTy20a6e3xuPzC7lP8GAHGxlcj4bBTCwcso1s+c9i3NWpBYDPwhsaslbCjR4ipj3XiLJxL1U0+PdGOs1jQsoBeLUQVDB8HQn6h/6BBd4iu34l+7pMy6UgsF3rfpRAIPpFKhYictS47QCF7Hr6cSKaywr5JIbZ3Qk6OFErS4iitXL5TIZtKFsp8YAIoWFtAzXTfhhhNJItnwqtm9cUNR2K0mCxGxaVBUK/oN+EslUyU+fE9hdDTIzgcORf6YiPE8tXLxdLpGOfFv38EHh/ZETtELILZHYvq6YEhjmTh6lGNRT/aJVnkQvfUxr73Ggoxgj7L0wIEtM3gcBIonKu6Q3SdL2gaOksyBgMTL7vWaUL6ArkIJmxG6FFI8zhXQISVy+I94iJ6J5SJ4zPJXD+peSzvhBhrQKDAjbcBtf5kkBrekhIMQmyKPyWXFmztfIocKvIzJgrL/lKUWYY8ttFMzrQsZnE48Vg0dIfG4Lk3mscn8lFnKzqx42kDmNaY7xGQCCe1LMR5JeYX/VmchSGeEXeMGBjviUqIaW52FRBwfCPhMImydMukO0TXubKf8kkDUTwbGMaEXubTCmGjTzYxMR4K+KozMV4uuYgfmqfOWOVMhH9qQWDFW1IAkxAeGKlGZxOsCylGQZnQCbn8naGYSmTrNCbUnjejvqcofKWx0falCP7kspTIjncj4Nji8sqJPHfkoKjRoTlwbOc0dstBsmjnKlnkFkgWFpQFo2axi0soWHGWtRB7jAgEXTEG/0kqycKA/tvjdJ2r1cUSY1CUCnUCIo6paIUkxHVM7HezLLlXbjki9mAyIBbVI0z0iQmBHT6iAja7YaNWXUHjTC6uoqR0QGPnveaSKolz+5hQX7TH4tklOwLdz0rEimPWdMqLf2JM+GKVaGLOFaDmQo3QUmUZH2IU1TCSUQkje4OYDAeirHqmKA4gAj3YMWqIdx0IPJVwOBHpdjnPPdZX9LrO1d79hEFVMvwJEDHd1K5fnD8mlnmYYZP5PHc9G2GlNUw+8nGDKvlKGwJPJbbimIy3gxq2thr7NZ8xuSNikIUz7dDZrJFC2uc0UvI5sF+vFNkIm+bd0XheOASKGg1HDKrS/kmgNq90wvMqK5gbcTwr5gSjZTGPyaY1pWVBTA3XOC3mzFAvAttZNplko9e5BBMN2Cldus7RnLnOIFb5V4P4MrJUjrnP8gbVID2/GuTlTwYBEzLIVJ1BNuoMclpnkJupEi9Hx8pxQz78i0EKyCDQhgzSaq0zSPhXgzSENIPkFYOsaQZhFINsZYtcNhXm0oxuEF2/0+azuhIrUFNikctmX8rGeIHPoYpELbGmndUSq5+UWGLaoNUvNgobpLbEWiYGWZOqJdYpJtTHmhJrm5RYu+WMlReicQOTEnGJtVdTYuFyChtkor7EWiz9RYlV0EqsJQcCLyWZC/MSonmuXS+xdJ0r+/6fmvRdpUn/LhQTkohuEltp0vv/2KRjg/zUpE8CGR9rTXpKbdInapt0o9qkywLuVeKVJr3akG85KGyQ85r0x3VN+kFNk76pNOmluiY9kgvLDDKV8Elv0nWdr5YRbcw7T0PtmDdeHfPOcoWEzDBsTLxnIeSBOuaN5PpfAChjXnVeO9sGxCCmIymBCZsSX6tj3s/KmJdFY95eCqvrQB3zJri73eTMxLNsJJVgmHgppEydW53amHcUFIPA87oxb6M65s2XXcpdh5WpShYubcxbCXGBOMaxz6fSMoumztKMPubV9RvR0z4uU0ijFdubnxaFaTkrqP+ED5RFYSR1JnwzUQTZ7lUWha00OdG7r27hAi1AEYNQfQt8tIgeEmealfcqi8IIWhTeHQQgZLhdPFOWd5VF4cCIRMIJvVEXhYeVReGhhVIMQlm+Y1bIcM6vFjWLebwoxFl8tANUF4VptChcdpBPR4tCUQ2xSV0U3hKjKRJOn+4PXb8T3Tjj87uvT33qAiAA6LnPI+Yxt+cOuaIEXV1bNLutnp0OUC1jn1+w3vD7Hk/Q6gnHjuem27z4ug8qBoGGl7vhseuu42FQz0D3cX947IZvuVl7cUePx+o2P3s6qH144yuve8y1oX3VxDi67XW/9W49skDFIGBB7L77xsIjI2bk1OSM0+/+sDFtgUpee+1D/jHX7LqtEnPHA48ZhXit5qsmU2Z3eHe5TfeHrh/snU9PGkEYxufw4PRQOyQG3aaUsMYbIZElZAkGQiAQyEZNFahAIIBWg0CrNf47eLDRaNJI+g38BI0Hv2B3R1hGkarocZ6T70Z29/D+fOd952H8v1kxW8rXVAysiaHZ+U8/RAehEt3/mblnVozq4fXQHGBfyK19Xfig8JgDQsCaN5G4lpgSPjUzUSxtBEEGV6am381HmXDFu/0puxIUbtxsv9uuqgDpAcKTvZo7j+kZD0SPY+LTwj2z4odbbdUJ4emuxk4mqgwuKJFYMrLLJB9S/xfoVlvb3qWis3w7XQURNP3eKYYsq0XE31em9eMaX/AMALn7K21szIp+WVrTflMiyP9+GUIIV7rlFmIaahsJ/mgbkL6t8dBI+CF8MhjQ7/sOz5Nu8XQsJRFbpYML8HSO9Yw8Wk7qGYJ6lV87FYoImdEDTowEBK7kpUcIU3tGuUoJBEC4ADYbT14LtYfMFRordCQgSB0szgih+zS8tK4QiID0BOd+oy4WEVI9/qjiASC2QNeNeUUIHQXjtgl5vJzUs0RDXa0booM4p+2zkYA4Dyszwtpl5dA4CYJArCBCHsfqy3ODC47FP0GMAoRd+3I2TcBUy+hGKTBUQbiYK2C0ZoR3XtA6bCQgTT0weC5YrtK4kkdtST1TIHAv5MP93pj7/WKzdAQg7FzLUTJYqpT0nAIQIgIyEJuIG3t+2EUlo50oeBwQ5GJ7yiCJJ+OxI7smDAECguB8spIZ3MzdzW9iBCCe76UzCNOB2IaLyfIh9XwBoQvj8ybth874ztTjgCATu7azEs1bY9sxwGMYEMB50qhP20VE2Yvl6OOATFUOUjZJ3qN0/IZhJCCcoZVyrNCk9rsstYOPA4KOb8Fux+lW2bfnl/+/U+plgruTD9fc6EWryYSCRwCBv75h9ydstpK+4nVnBCDDHTVSO3E/HgEEymV6YgDehVaY4tFoQAgQPEov2vDRiJZVHgMEoXxXtad0xaW1iDyFTmqMdVaoa3Q3GXhIT7RpOgwIlFajn8YInsQOXZSMBsSuRydp3lH30PvmwTAgdN3Isn4Sr+vmgo+QJwAhIHTF7ESavXeeazUmMQwIvG09BPS2Y7752iEql1dS4xDiiazlr1TwIFheamIIEFrUsrTXnW+WjT2+1fAEICCgvKPuoTdvrNMhQBBd++IF7LHYFiWjARFvrf5t6P2KMFU/TGEIEJbVirRfzOLJI3nMr9S4otEL7dcm5YhU0wXPQ0DQDLeD6C1V8ktFhYCMBkTMY+9JfzGEYFl34CEg6sfG1t2PrPrHOOcPGQ2IKFota4Xdu3deNn4oeAAIXI2WG715drI+Kzc/pMYW4C4uHf/l6Uk7Woc+AES96E2KMNMyuh8AkCcAETtqX+GuJlXzH1WIgPAhbc8v6b4qVXIKyLMBAbxX+aVTzoDyw8jQ+4AgdVhx4I7+rq8lrSVSrxNtftS+WEUE6pfwJu4Bgo5WY8QUm9zwiUuVpwEhd2PZdauIsCuThnuAYDN/4QYHb1u7dVCQ5wPCHWSmGaBJQZAyp2+4Bwg7N5kBP0NosdSR3bnUawVPRC/9DgJoWm2BAAjOzDTmXW82vbPKyAsBAT0L+ApWHru74SoVAIG3rDcBAiVXKV3xxH4aEFFQf5tFRAXBimlWwQAQYDl5rdz5XmKBM9mdS72B4ChoZSuZIsYREwDxBpZ2AUKjn7XLKRCQFwHCOxGzoy56OHqqAAib9xUprLGY78BFgZcCwmvQL+0iSsGOjAgTAPFXDlP8QDyzsXFKb4nU6yRsFjT+eqEUkivoAwI2bxS539y0JvKlyssA4WJbZc0qIhEjy9ADhJu7FG5N1BJ8CjUGIJYZ4NjqRNSyHkUfEHha6RuAeGp5PSOPGZV6KwGOlu+PiznMXUEbkMlYQiFIJXxlq0UZDxDCO+qae66VnrQB8cfjM4CnFtZ5izIeIASU7+PQrbUL1QakqGUZoY5t3/cmlXxIvZkAz7qeznqXtROFA2L1v/UZ0GrA+OEFyFiAcN111I76gRMcEGv0lKPwJ7Qv3C85LiCEO8rWaqrlWgQHBE29HQS72Uln5eaH1JuKfyvQCKzumcnLAZm7Nmapu1NazCiEayxAuPhYNmKcK7AAQcbYV9jERvrICzIuIKIZYOKidEY5IOrtcZWaw7ONSWlNlHpr8cFo+lKvO2ACwm24ju/adweAVwICanbUn7vaMrUAsWqJO5uu3zCQsQARBc/pWjhx3HZagFgOeMX6zlUK0pso9Y+9c/tpIosDcNv8YPYBKRuKdENtCjQwtLJQri2XynKpYNOycmstKaHlYkQQhAiyCQmwayAhiIEQICgSoo8bH/aBB57giX8AIjzAAyLxfsHb47Z7dZ0ytHNmpLq/75l81na+mXPOtHN4B0QQOZzmyBqWewIJcTYmxzlNI3+soZIF8uftwGptmCs6MqxcXWM65v1qovcbjDwE4r0dmOb+6SrlCaS5+reSBrs9R42XD0QYQF3lTAgbaAiLbnFXXTN2V0iBn0BEVOZQWN7F/LDSenPqOas+RwlcA2HGl2ONT4trL4rWZVcOmwczKbx8IEIBEDkc5r74TVlaC2MNliAQr1iRa/pmuPNXe8+wWVcnFTFgC4Qd6sJvZyyt5mtpw43aPhXWgQiKvCEtPsOcZrJ612BJAmHOqF3xtCms19ieDiKCQJiAcjQpL8FmNLricHaOCAuIqLYsmu48Gw4gIgmECdS5aTrB4n3CFVkgTKTt8TQdVhONs3NEaECkvJ6Rksq4kUAeiAhysxKuXwYR74GAKKIxo6hNgXkgnwGI62U5yxMEIlLUdDNWr8gD8QJt1ih8KhzyWYg9cWZUKhIikIgbpwYoQQJJLghrwMe2I58BkF9JoM1xFP+BgLownjZFUfwHAsqaeFp/Hq8giPBAaQxN065o4D0QKifMY+5JBr4DASq3k6YzcGcD5DMQYsnLoPPia9S8BxJu95oTuuS8B1Ln8JrP9OHmUYjgqI7du9bZcO88xXsg6VGhw0ml9zKlvAdSciz0t7Tye+E4C0E+B8eTIkSCTNJFuSkqkSCTdNEVk0KEIL7BQDAQhAUMBANBWMBAMBCEBQwEA0FYwEAwEIQFDAQDQVjAQDAQhAUMBANBWMBAvp5AgIoNz+m7eOm7Q2npGqksUYP/Zmls5sAVf8w1XaP3IuQBmc/XX/PLfDs3ND0gs6qurf3id/6Y26IYZlKAUoY0pDa1fPJvFcQPMj6Mwqvl0UrK/+0PKMWFhtThT98yZ9Z1prmsPFIJLIEwzPnn+j41X7Ke9mWuSlZ/UV9gBFBXXHNpHfb7Jw/nvlVvcg8OJFPgl1l57LZF2+unubrIMXSuxE+zorIw23+zsfpSQwSAfzuWxw1bjf6ae436mtJ0hpk7IM0s69aOT774wQ9eTDqKdCP5UvAnEJA3pzYaAzDX5l6mwJ9AQF13pcNvs91tOtsW/eX8kAqk578r0p7YXHg2NpF4KBMrzx/tOmMso+ngh7li0Gh86qd50WOev29z1cf6YZaHtppNb2cXni36Y375/PG81VaQo/DDrI6rNTjezu7c8ct8Z+fxE31Kz3HetrygLhdWp91c315eLZYdSvHq8vb6zRT7tUg4PBAqf9hhPuu3eWN//ccUa2oyHB6INLPGrb37YM0/89bG/pt3KdllJV9IIZDeZ9Lv7k1oxB6WxIeg8f5R4tij1pTuexSwi6Gk3Wj9wDCzsDSx8rjWVltxqDmyUHty5lkAZk3iymy37UQdwKHPizY4Z156zP6imVjZbLQNZVLAyy639Vb31Fq/TOJBJjmEP/+qf21q2nJODeyBQOyofvz9RkDm1e3XWtdxObAGAqAqc+gZZla7bHX/tbmx6ot40juE6wxPbiVqxIGg0Sw+dhp/ZT9tUucbtfN7DwM0PxybPeluk7Obo1xFu88CNWvGNq29A1J28z2L+8PLgF/zyma1vUEqIgaSWwx31zynYUkAeE7Ka62GpnRgCwSih8yvNzziAM3bN7W3VcAayIVW7VTg5v79H419wf8wa4BmV+8m43zpz+G299TQzjZkoSqy7bNczIm3as2pajZzpf7+Y06veUdnHJGzmct7nXOcXvNCY1G9FIj7qJ1+syqTBIxs671xqAQODgQu3xhf75cFLpZtTWlb0uHgQCC8gKN5+bW2KegfKAeZlpMLD8Uc0CyN7RralSx9WL/f0XAya1bmDVflLGf56u5bXM1PzLnSA81Q7tDdeshJvfTyqXGA8BoCJTr9q2IJl0AkxQ/cQxFwUCAQ0jO5z9Hcvz5do4KDAoH8jhfbxRIJR3NhkF9DoKTbvpAo1oi5oFmcN7TBQebojvvPOZvHnhjOHWgOtzj3NGJuLK28NZcfaD5vbXzG1Sx+edYYCiISFDXTrH2wD4YeaLvUBwUSe318XybjZpYUr5v75AcFElGr3/YOCTnR/8b8a3D/HlfeZHiUKOaKZqzWUQG+zcoW7Ry7mf1M36NvPsCsOGHaITDfcWVfEPlGpet9ruFu3rvfESkigMq1rXv74Ias+L05h/IdCHU17UExZ7Gsf8pYSvkORNpufsUuZp+rvzZVBvMPcqFUu+sZcXPGc0zoFL7NOdoZIvNz/aDSt3lUu5nI3byk2XHUyH2aqVTjrIbkNS8YuwgGWdCsv+uZf3BGttpqjQZfgUCUY6qfxLz1oyvZZyBQ6X5PZF5+11MiCl4UupMrGjEBmk3fQyFQdXw/JiYhcUZb7tMcYdEtkpl3i0JFPoBI/dMJIvPEE8cvwP0CcnF8QyYhQLZtapf6CkT62+QymXl/uozyEQioW39YlhCZXxnbgvgSUqqdJetDvNjd42uaBQPaRxoS9ZJ4zNWqBp8XkDlC84p1SA6+LiBFO2Kyt+NZ70Xul5Dm6jcyCRGyKX0IMAOBKNM6obn4tSUZfAQSZ3wgI1P3txYE73OzpIP3V8REaBI3k3ydNNXd34+RmmdsmT7MCqdukdQ8bwhhmkGlf7qoIVMnvnUnizgCfdMbErLzvGQtpZ5iBkIVji8TlifZT2mgmIHIWyZJzbJXtqqgDeRy77yYkKU9fRPFNDcXfSA2P3e0A0MMUYZNYvOCqcyHuSplVkOqnitqA6630F0niiWErN7UKRmBQHr2a2Lz1rsTavg0EEi2T5GaZcsvWoJ1IQuOxyyISZl4mq1gmgdst8jNug4lw0yNGJ6Rmxt1zM9Ees34kti8eHKI4xgL8m0PZBJCZOuGEGAEUhfzitz8xpTMDKTStk1unrJHiIITqst6R0yKZsaUyTzYapwrxOKl3d4Qhlk91LhIbBbPW0sYZkWtjty89Nap4hhIvWNNQsy2tpQZyMj4Brn5lbGSEQiVOrlMbn7gqAjSMZb0hm6MPJA5QznzMO54ukhufmyoYJhjLU8mxMRsasMZ5gj7Lg/mmaJIjoEMe9aDiNnovcoIhLr0bosHs7uN+jQQ6eBNHsxr7nNBGojc+pb8kNDcislhmBWOeR7MOz9XMczp2hkezHNJdQxzZMpmopiYx0kXOAbS+uOqhJgtfRMzkJ6b/TyYx/uYgXTc5cG8PD0apIGoi55oyA+2lzFtzEBSPjwkN++dKmWe55M2yc1LzzujGOaQ04/IzeK5nzJFXPAexjIJMf2TLcxALHeLeTCPdzEDsU/xYF6dvhqsgWjnxcQsjf2cywwkZmaJ3Hzn1HFmIKdmyc3iW2eOMZf0fprjwbyQxTEQKLgpIad48hIzkOy7Mh7M44XMQPRTfEQ9nfo1ByI+IBAezAcEIhYsEDEGgoFgIBgIBoKBYCAYCAaCgWAg/wEDwUAwEBYwEAwEA2EBA8FAMBAWMBAMBANhAQPBQDAQFjAQDAQDYQEDwUAwEBa+hECAAmEC8ZqFCcRrPspAIFwJwgQCFAgTiNeMgXAKRN6mAmECUbbFgjCBqOqVcJSBDDaVgDCBDEQCCBIIVV8CgIFwCEShrW0GQQKJsA3mgyCBhMR8dxlCji6QxrzGKKkQgVBOS5xUkECk2QWhUgyESyAxGb3nIgQJpDPDXhopSCAJGdlx+fwEkjBSGjB2OsPYZhEikGw65apKkED0GdpRFQbiVyDZJ87+S208TSd1neIlkNOusx+b82jadvsnXgJJaPzYfCODpg1dWbwEknc6LGA8/7EMvZufQIr+/hhc3k8ljKbPXDLxE0jvX29WfIfH3HqKpk/XaDEQfwKx6z6ixxNIWBNPgWR/bG7Mo+mYQp4CcX5sLvAEktLETyBZVdGBEuKk8zpCXfwEYv7rzYr3vnc3PIdx1nWeAjHd+PPNird4zZ003dmCgXAaYhXVCzXE6m3ga4gV9ckQy16ef4RzkKxL0VSBMEOsmCvpfA2x4D9DLDqlLAKHWBwCMXfXCTVJr80UaJKeNHjhKCfpF3MVAIIE4souF2iSbnVWUjhJ57LMOxIh1DLviEqoZd7R2CNd5lVRIBImkNzLlEDLvLnRFC7z/m9uFAJ8nXfS8UZh8AWCXzUJokDwqyYYCAaCgfwDBoKBYCAsYCAYCAbCAgaCgWAgLGAgGAgGwgIGgoFgICxgIBgIBsICBoKBYCAsYCAYCAbCAgaCgWAgLARjIEsrBwSCG+h8VYH0CxbIavAGwssWbHd8bcFm+5BIbt77Vqgt2HZOV/jagk0jJmbudPjRbsFWI9AWbKvjtwXagm1ruixIA5HbBdvE083LJp5JcUJt4vlzHcMcbeNlE8+Y/KPdxPN39s6lp40rCsBH1SGzKQwVLhhhWzixirF5G2oPCW6CcRqKMCW8jC0j29ggXiEUhUclJGqBgoSAiAhBBCRRlC5RF1mw6ApW/AEQyaIsgCAeeVFSWNZWH2qZMYzn2sIQfysUjT6BdL65dyaGWxiqQzwtn94hnqE7Blp2Ho+B1gXnGOiEszwGemG8hx1IYnCOgb7KDkR6sY+BpgpNz8nH+NHNPHZ61bZF8o3QpqWDZVaMunzpEfLUbGSvetbsIJg/2pIFBmK3LBPPmmhNH88KBOd0L8nH+IPhMh4PhOqbCELUG5bbYRoI1ietE0/Ewz2TnG2218ySm60OGTvqOeYNudn1QMGOul2/SG62jdIgCIxJ2hARB7KS08EOZCDpd3LzgSGOFQhWJK2Rmyd1sRCmNFmeqkhv81vmIYolxgbDEflh5pYnyDZHM6+Izc+cPRTbXJk5rSJ+Rje0ocBAJA7yZ+mlmQcSYAWi0e4Tm3/7o1zBDiROd0hqFi3cuCOGMIWWppHeNFOmU7kWSFl3xhip+VFSA4dZUpo9T2reZJo40kuu2iM2795MB4Hg4BTxTmg5s41iBQKUW0e8E1rLrKXgeCAgTnxHahZ9qCkL0x0WINarSW+a810uOXKY7eptQvNYhlXBYabm1M8IzYuro2IEFlSfYZ30lXdvNQ1Caew9EBHvVjqQHQhG31whNe+XxiE7ECzTk+4Li6TXjeEaCIC8y7ZING0pr9Q/IbBBjcM1RriAqG9xmo1a6zzhAmKoAA4woYrwtffDXSfB8yZVPf5SRDTFy5ZOGtiBgHh0YoHM/LsziwKOQGTWGwuEC4jhKgVhC8YzRw8JClG9SeuWcJvtzKMUEvOsuVXGbZ5Tv1IJN/+qetvrZ9NL3dPvqEi+52d6Nw2Cwbre/X6SOV762RyFXIFgtHOyn2SKf5spjQOOQAArDQdFRObvrxshjFEMMdspwidirNwZjQhsEGSJ+mcE5sWuqkY/ZnmrZZ3A/D7DVAAIXCR36WZVBHcLmy0BEQRDDdesCJ82UdFBiZ0CrkCAzmI2ikSCzf2H6noKuQIBulP/QURg3jdUUuG7wwLAdNfq+muhEzG/yYxQ/sxNNttsimDzU+Yn9GfO02a8UQldQMZ2c+L9mm/rup4LLmRxT1+BQIIk0SL8hWzRB71bBsgZCGjKdWvCzRvqdjEAZyBgzJ5YFm5eKekRh3MfvnXdZBN4p1eNHTGFMv/m6CrXW2Hm12ObzD2xf3OlM3tWoHlxlymm/ZvrDa1bKQJXpo/qNhqIwLjuid+LhPYxXm5EAO5AsOPuuzWB5v4N5wsN+gsE82w3losErh8rUy3y8O7Dd9csNU8LeA5RpWx9VBfKEf2KqUum1R0h5teze+pBmV8zIlVWZdsW9D2/tep7xP7NQNdbMh4LMq9nG0ZoRCACo7LHV5ZEQvbyB1PSOPQbCGCBS7fSLwpcLPrtcCoxFv0GAth4d2JDkHlh0tCiwXAPBDCvm3m69VoV2ECo5h9nMFkyxJPMAw715nNVwOZtm3r45IWXuqQ1HL0P2Dy2s2poo082XzZbHi0Gbp7WWfJpIAbj7mfuvxQFtqv3Xr78c2Z1LAL4C8TXXmvOpNcc4BAXLc/kuJMRwF8gvvaySw4XAjb3r80wT+Th3wcAxj4xrB5tzat+5T0QD8e29xjXqY9XmF6oTnv0xndH5m1e9Jq7Lp1iRkxoKckI1LxjzbTeRjxZjE13mIxX7wMzT2dnljciIhCDkhHd+OHLfpGI/6gtLR9atHYZwkmBAMp7qswHgZonp0prxQgnBQKo6bNM+MyfBWBem5xyxIf588c/oPi2R6/fm15/Pn/6XKTML249Psqo0RYbkYf5Uqv65kfe5tnHm7aa0qsaHmbF5Wymd3dn/T1P8/bmao3DLudhlt3qytHt7rz1mk9tw2t+u/3UlHk9n2UWCFIFLZYS6cbywlKR6PQ3V0sLyyszTFVnBwXACuQYdF6zU/8zf/PaykyOuT0BEU4OBJCue2GY2udp7veZv88xZcWF9fur/4LeQS7U5vSu2jJOx1Fq1qutbXGIvMyKiiETw9OcZtbry+1GnmZZZbWOqUrjazZ48mN5mQHlt5p7GR0vsy1Np3a+qA3mVhqphr67OePv7v7x/an8ceOdhXFlxVAIXIGwB7ndwYy/u8HLPOEs6Spu8plZgXDdYztLvea7fM3Zw1HnJg8vCEhr6to6mz3S/9Oq7ZYe40VL1q0EGQZiHrjKYTZ1HfsXz4uhnrK4QMzi2C9HCu+wzdnHzYlDPZXpCgxgTTVGD7tZZqvJKj1Goru4wug1IwQTSh6T3149Kv0/D0yt0mPcrx6sLZBT4IMVCKc5Oe+nJ83HzOXdXOZ79U0Sn4M7EHZ8yY12llnq0rLNLX3xUZJzVMdJNGnbae7pJKXBVExs5r72S7OdCo35clU9gZkUasRch8ANdyB8obO0eQjccAfCF3Gno+OCpMAFaqy5X+QjBB9MdymTykJijnIoM39BCAExJqV6AOGMwMoa5fUEDEEgWJ+am23EEASC9m9ypZqLW4h48IpS2duAEHQU7mtKpakgBGZZc65S6UiAoIMSaa4yt9sIZwM2lSqV11pkwQ8E88xK5ZUniuAHgnUWpfKrrLD9dQ9SqPpUpZcHGgy62f6tV5wrlUPQzcM/+szNMgg2dN9XXvM1twLOBMl9b/jKb9uooAeSbPWZP8+ngh0IGrt95ppbYfxxXSLEc57yr02e5rqgB6LI8rResXmqYyDYSAY91mvXPS0dEGzknZ4H17o87jg4E2JaPI4rVk+fLOiBNFR7tF+3eoplQQ/kdrPH/EOrZ+TCLiEAipxiCD7om7fUWt9XITAbv63gNJNT8F0DgZn4B4tP1fi+Ig6Ebb6aKWeZyQPxce+mDC4yMl8gISE5NR9CQ7ovEE7IA2mEM8MXSCyE4i2WL5Bk4IY8EAlcZCKBRAKJBBIJJBJIJJBIIJFAIoH8RSQQ+JdPN5B6BL7gMCMPIJDKAMztlshDeiQQAkIViEbdRgFfqCwL/0DicmoxkL9uGwkkEggBoQok2dTHPxDaXSoBvhh1c/zN4jsuBVxkIoGc00Bk1vv8J1NiHeV/cXJ3sziQiy/w/xJGAjm/gdD3dBoEnhgtczR/85BWztscZWi7qJ8ziQRyrgPBssxLCDwpK4lG/uZ89QDyvlZfd3E/yxsJ5BwHAulmtxj4QSU6AhBDQu8gDfygW7vkcKGJBHJeA6Hc5ii+P1ZVOwX8oZtL04EfdZZwPX4wEsjffLKBYIGT53ssulPXhMAfHDCM0LwuFLdoEyKBRAIhIHSBAO02NyKvD6U722kIBEWzNoaX+bKhmI4EEgmEgBAGAlFaK5+/nxT7J3tn29O2EQfwSL4uSsQIBHVkJeAwYysVQqXDDQUMnYagT2qrrmUF6i4M2s20XWmLuz442KIrXhPcSpGsvK0ipDxZ05QokRIpErzJi0S84AUfoMknmU3oSjtGR0coNv4Jxxff3R9B/NOdHd/dw7t123yEv3ropeM/RK67+3BPz9yuCyKzjwUBX/RN28GHCtmf939l3O68RN197S0fjOy4OXpQ4+2HLoiaBTFYHrWe/tB5bJ85+2L73SDbVF/PByNP941pvYOlC6JmQQCwT/W9GgBbzw3b394Etj/RYPO3/TM1W0au+35wXttfouuCqFwQZfLJ031Hn9nAv+VbDj4cnH/TEmzTvZnWiz9Z/jXfdunu47EWzbcfuiCqFkRR4IvOxzP1my3LAIDlwNToucvGjxtjD2zdw8dP1xk3jWybnB6/e8lo0AXRBdkWuy+IAdRPPx6+9VVNk8UINiywYmmqkWc2HppqAx8/We29G6Pnb3zW8Y/IA6fuDA3PDID94IcuiLoFUbAduzH89dDTuRezI2+YnZ96Otp1frr3/634Y/v51vEjwy/nero3RH51cbyrc2pSK5fnwNhxr3oLfmj4tre6Ihw80V5dGS49+aW6MpxyTWyR21tf4RmZ20ZsH/cZ152au9053nXkDV2j524/uNBmBP/77Kn/4tXVzsG3kc+OnmucuTygponbtwR0zF/vqt0K5ExtZTiBPKmtDCbiZDmxy5Ebxhsv7NEVYYCxqdnR8RZHc5NyDoOKRNaMHTJ1jb/5lnmzzk6QSHmOtGt7gOk+A9hfCiE3CkM6OwGMUrGGeW2PD9pfgFNVfhTS2TFgRhptM+hoBcvTJAXp7CQJoUdDPfD9jm0oRer9qx2FWr2lC6IZWlr9kM7OIn5ZCUHAGm9SalhbXBO0nP3EgsAk5YZRN8WgMErRMCTjptzQFmxeBKYZVNmTFI0yzCdsFOHKCAIGxl4+7W4GyjK1009fVes3AjZHe4IUF/zkSpr1LZHhhQgJyXg9S+UsGWhzvGweehc0trqi7IueICNl3ND22NMtCAAdDnDgusvpfHLTDoxjrYST6L9gbFHPGuMq5tMLEseCdJZgMbYU9pQFyXPecjORCtLQ5oQI//uCRIWCso+zKSYgaUkQUDN7bdb2JXb7l0et9yfAsdEr02PPq4brejvnJnVF3kOtgqBuEkbd6Pomv1GOrB1zy4K8FqRwjgiRYUbJJf8WJCky69WVsrBSRa4vb4ogpJyElACwbJmcERAKSglZEJSiUPkXlQvINUm5yFbsaUFA08h1V9Wpn85+UwOMs9cmjA/OzNiAbdrVc2AIG5pp0xV5B7UKEpZyJBPgYbOPJ/mAJ/YatvrSgQi9JEp+LFgUQyiPLFO+HEmHkunImiAwSidFClV6Wag17UkV0NKqX/J5zZkMj4aIWHo1T6OUPymZUTicSuYyQoFM+CS/KcVko26vLxFL5km0kPYEswEK2pI9LIjx56tVhxv/bBmpagfAaK+z2Bq7eg3AcPDwLduxV62uoZF9MCJpG6hVEFIS6TiWInMmK88iGCGG4xzGZXmWcJmcQZJE3TGTOcxl3XkM4UyYIgiTC3BsIE3BEEytIi4iw/AE5yI4AcOTVIjgOMSVd0cwDFkourM4ZsKEQpwlOBORYnxJehnxcDhXoiUc45CFMLQle1gQ2038x89swPDoxAhovtPYONV8sb9GPt47+KsFgMmbSGedQWcD6hQERkPsYg7zUVKGCXD5QhYLmV3J+EqECC5mZUFgdMkUpcNcmhY5b1FEFEHCSacMtghDUAKJFGKYmUd8xawzWvIJhRCRsXq5zIqQKYa41Eqtx8yz7OsYkVvM4mVB8Kg1i3tLJl/Ry6lYEEv7mdo7n9sMPbU9YOC+0znccbFPUeLY2ZcW4+SDfuJijUFnA+oUBIKtwnIm4Fti/dSCSEMlNmbGoqg7zRUgHguSaEIQC7AsiJIL59ZaEDfvFTz5JVoWJId7RA/h5RE/uYwsQVF2MUTkYEb0JDBBXMXEOBKBSVFYlIQVOIGVBcGWoDzi5bkgSosqFgQ0Tfx6//DR6s8afrfZJv7oP++4c/gyMICxM3Mdz/uw4y9q9GuQjahVEIiWVpOJjCTEaY/IQGaTLEgWItOcFVYEKS54SuiaIB4fUxYEVi7SMwyk4Ccy6XQ6ziPLaAhLlAUJopRPFiSZTmeXS0gKdcuCBITFvwVx8ZBXESQil1OxIAYAHCPfnOmpuXak29Ex+/V5+0TtuWf2Z+cavquuGn40oOvxLqoVBJVbASqHJCkyiwX5AOaNy4KgfiLGS84gE8Aj5jildLGimD+RRNbvYq2uC8JjUXPEZ31HkGQihwUOsclEyJcPLyx48ya2kEPkcPhGQRZZj1xOzYIoA1s7Zr8zjlSdGOw/6frdZm9EroxfQW42tf1xT9fjfVQrCFzi0m4eSZFoyYPjSJRRBIGtCzjB4kFzrdOJ48uH5CIJ1omxWFkQ0ptwrz8gS+CERL8jCIs5WZ5c5nDcs0gGMdxkEgqLHpwQkA2C5N0xAhcEVQuiGCJjmTh6+OT1Fw4A6qbH7z+eq5GP7Y8h39tCvYLQaR6lYnEYQouxjJ+CFqVlCELj0fSS5E1kRFHMJKhAiCQTmaA3YH5bT9ngcDATOQRbpQTKS0XIHw3zmXxQSpAw7c1ESyjM+OX32TBaCsSWAnk6knInJCtklsyMORLlMx713ubdYIm9rr7ZqKQtA/U1Fv1hrN3B1uqHod0ARmFY2SD5VdnJaaicRuVXBSVbZm3/j8rlrLdb+UdJr8csF9lYQNkKPimeEHw0tIvA4pf6yasZbMdTJKRd3AEcQYgcDO0izOr3uiCawXJ7VcMDpmC0kPIk/bv7F/LCvC6IZgAjtSEtD7mFUZJUOmG7BkxHBw8YdLQCcFxdWCJhfVDhTvlIB3+b0cdqaInJh0LAW7Tq7ARxv9hwQ+NrVu43QNuDzismnZ2h62G3Xb8C0RQAGNt+OPi5zk5w8JhD10Nr6J+o/v/U0dHRqQyg2WaoDKDZYqgMRkflIuv3qP5i7+560sjCAI4/Fw8cL4BhQ4RJGAnjkAmEGBEBFUEJhrpq0AiCKNHwpsYXqkJarYkXGJo2MW38Bn6Cxgu+4GLXbZvdljbxnOLG53ehN+bBMPlzPDPIkG/heCfKQARMXa0ImuwYMgqabFndpr+hyFfoudUqewj8oeswVoiDAKi8DKUNCAKoq6GTESqEfME2TN7Q6xQKmFxveENH4wImS+cRb6jjBu5QOta8sUMFCPkbhnNerzeWlJH75PZcd7L2SgLe8G6qO1m/Zvwnrzi7kxdLtA0hD+TkzFLI5J8wI3Dmys9MhXz+8h7wpnRmgiGnv2YB3txH/tHQqP/GAYR8hi51ZP1SVSUUMNlhqncng4DJloZdVRjwxhQ1EzGqCq0ghO5y+yTvckueHgqEAiEUCAVCKBAKhNyjQCgQ0gMFQoGQHigQCoT0QIFQIKQHCoQCIT1QIBQI6YECoUBIDxQIBUJ6oEAoENIDBUKBkB4oEAqE9ECBUCCkBwqEAiE9UCAUCOmBAqFASA8UCAVCeqBAKBDSAwVCgZDfRX65AmK4Pg6CGO4rC4gxsmoDQr6BiPAZTe5CuoM/IYQQQgghIqgfNugDaAn5EYs2KQH5D5YypOiVg3QDyVEg/4X2k8JJlQohFMh3ebZMq/MTViDPHQXyPag6V9UhPQPkubsPBBEB8F+AAxQx9GHut18e8AykU5ICehbIc2fR3mzXh2VE1X497HLbM8y6ojLjmgyPh1K2FLcbJXc0m1mTug9gloALjG/sA2tXVZa5jo4g2666pYdfmV+B7JwCId1AfBN6cA09yYb+Rz1cKbo2glmlMKbC4+HaVORsfsxl1pZyq+7bxciSHYEHLF0kmXLzJjW8pEeKKc+Bs63UeO8YpPe6EchzZ9GCK4exQ8z4aq0XuXh52ZqMXcd9hzI8nnymN5vaa5cxNJ8cbi8VV96UXcDFrrOoxE0v1bHZ68NIyfNyNqMkCnwDSV071w1Anrv7Pciw6QA+aQvSzqLx1rR340yuOUsIjzdeKNj25+8DmXCxqN6Sr0bjwIU6WbBVF1uO4ImyreddIgKJanPTMr1f8dm7D8ToO4BOaIMdR6pVvXQycXM51QYObJXyuNt0H0ia4bl2cJ52ZoAHZM2IOem3ZHwf5f3IlpBAWlqJ+iBfAil6q7gQqVqCO7nOzFHOyisQ9Z9AAqGlzc20GbjAbONTYkvN+N7JNn/aIyQQna4Tkq+BvPx7BXHXEv7o5vKQxCeQra8rSEBfcbmtEnCBqUJx8hbbzu4K0tgSEsif6SwtIORLINdaQD5sDEr52dp2RZ9G4MC9XHBY5h8Cael1dpk2AB/ykDZrRFswrWa0Q09+3qiWOQeihl0UCPknEGz70tP+5RS29Lya1tsIHEhXF5dJ7SGQ7dFydSLnBk6m9ZwbpeJ84F0kygLax/P1LTfwVC+vUSAELJGCZFzPo6c5HwlOMwyvL7AdTpcUMDu6OPb5OkiZoZycXxwtIXBiNB1IgNmcvniVwvCypgc/MeApr13SHoSAJ9tG1XyKqGRbezKiPGjFkV0GPKBk3nCYw0zJ7iGgki1lJOAEF2brAMDi0RU3ItvfaG3LCDyNVK20ghDBn1KAiGIewDXmjz/MxIdv/4Ong5DfAw3+hAyEkO9C+/oCvcAT8gOY2lUpEEJ+AJG2CIQD9jYLIuD5nzjdAiGi17gSQBDBfCxtJz0ggmPHDT/j2gmDCK5mmF0OIwjAAmtYbwkZjaXp/p9Hl5degQhs+T0mjkCI1TK+zzEQYSHoKQ2oIILxwgE/Y21UEQSwmqry3LGQ0VIuia+LDATA4ln//9lbZCC1VRBiqIw7k+ICMQkKpPELgQwICsRnl1+8FRPIZBJvjsQEckSBUCAUCAXSRYFQIBQIBUKBUCAUCAXyvAJ57zAIcJrrBnIjZLTj5gR3KvsGEW7vz2LtGUSI/tJZrA8GETKmbiCHQo5GvNIN5OzUIMLZUwikEhkQQkvia21ACK2GydiAEJEZTyvUGBDh4hdWkHHfxYAIDc0u50Qd6CYW9QEhtJv+B4Jtoxh3NrQYBQmj7c4oRhvHRY02S/Az0qBREDduGwWxYVzQU3ZnoTdDEEIIIYQ8c8gYQxABJVkSNJlJEkMQApEh9AsycUdDzGBknyH0iTTuQhBKqV+ej4AALHNYO1iRQAClPja2YAUhWDVggX65u7y8nFZBAAwH7DLwJ19fdi04+lEIkxiaz5rSz34GHiVV1huDIIAtreUaQSMCd1hqmPzaLYIItpwWRegPPIgtXhRsIIAnH/kkAX9qpXERCVX6cmZqvznMSpGEAj3s7pjxkRka8hdCAolGio5mrInAndTRo+apZRUEYNdarG+BeIr+bNzAQICwf3IEgT9miFtKkdcK9IHxj2M2Xm8j9NDSPiA8DjsWE8ixt4lreocBd1JnKqUkXhhAAGsi2L9A3LXCffUI3GFT/yQhCMEC+gcGv5+0MX+oSg4rKg51PO6SHKceBJYKuxHuoRrel+UF7ZULPaf7MqLV5jq14dMJ5MPcNVT1PAPucPdOUmpiArFX8nrfAhmZqMkIIjiWK/sIYihl3x7C77c7FXKWdudWsb707mTqILA59d7DNnKjiTBCl604ulQyz3mdK+781FRSwY8zB/7JLD6ZQNRTleVjCwj8IbJwZdkN/MljQ6/6F4hlJtGKM+APo4udjIGBENvrtXGE3y/V0RPbmdgWBry5j+uLiSvf7OnIxGZ+/UqCrreLYzt2x1DsJh41Fcd8VTzxJor6qvxkAulK5XyDCAIoB+lGQMBkHN6sBvoXiLkR0XJrDLhjyVhudLk7WQA81/5i535X2obCOI4/L371vKmeDul6SrqQLFImIrW21umsLZSsVZFi27naMpnTKv23ZRvDuneWDoUx2R14BcNbXDr3coNtnCxB8rmAnHDgS/IcSFqC/j/Q5L03uA2kK7prX/Rh8bi8uaH2tgJExHuL++CwZxD+oJA9UTrCSpfM+vMQvBMIVuPNGDkhtRxsVEGygV9sawPXAoE2uhmu5XWSjufXti3jNEYO0L/maiA3jIf020De0yfjJW8Vjz/HP08NldHtX2q7OsgORM83KjdKM2YpS2ozl/VOINDzmT1yBJteDR6kSDZkE9faB6PPyBWwTb9KnIBkU9ff7ZvLBUfGkCXlqemVQE4G6c1cZrZGNrNXjJqwA9EO0sWikU9ZhYDYzU15KJDSZl4jh+jW4j7JhqpysFNPn7bJNerX2RuQbNOLc6baXJ8CSYd+vCO8E0h8EA6PdLIhdBlssR+BNGrh8BS31gMi6qVA9ObHQ0YO4AETsaNglWTDUqvT2U43I+Sa2NHzCkg2c6Uemuk5EohIxvcYSSDlFaufWUWtNU82IJQvaHYgsaNn8/y6L6x3J+ppru2ZQFALHmjkhHnrUuhWwoEnCBgXC8Y5yBWwtRNzb0m6mae5iH7qSCCBs8ZbkARSApnIRdu9rWmyRbJLL+q6HQjrKHs3s+MhfWNyrqB7JhC1Z2xk2xpIOu2sMFFSHofICczFIb1SrVytDQVJx68yG+Wt5RBJh/OMhIMYaYHoyY9nwS4n23m9URwwOxCaSCQKK2VYj54VjEvulWNeTCrp9VeNPkg63oqvJDJvGP10VwJhQ2XReFxhINmwN5tLxD9wko53Ml9A7gh0y4hEB6helKj2esQOd020L5PXKYCIstHmtxhGnUnw+zu9+xxWenDVMkF/C+XdCMmH0sXYQ5B0SC0ke09iBHIAq3b2yR2sdJHsHoPkw8zhTnJBA0g2Mei2Qe7ArzCVgcbAVYDwgxCAHUhYcPzbMk7ePMkHqOLPLuyV7fgjAFeZM6sDYgagsTuzXX/JDqRCPp/v15A3/EB8vt/B4SBEPp/Pg99S+3y+7+3BAQkAAACAoP+v2xGoAAAAAAAAAAAAwEgCbPOmLsDowAAAAABJRU5ErkJggg==)"
      ]
    },
    {
      "cell_type": "code",
      "metadata": {
        "id": "kDCJvV7009LS"
      },
      "source": [
        ""
      ],
      "execution_count": 4,
      "outputs": []
    },
    {
      "cell_type": "markdown",
      "metadata": {
        "id": "6DhlqQiwvouE"
      },
      "source": [
        "**Get the Data**\n",
        "\n",
        "I am using Cornel movie data. Availabe [Here](https://www.cs.cornell.edu/~cristian/Cornell_Movie-Dialogs_Corpus.html)"
      ]
    },
    {
      "cell_type": "code",
      "metadata": {
        "id": "GKVb8E_XZbti"
      },
      "source": [
        "lines=open('/content/drive/MyDrive/cornelldataset/movie_lines.txt',encoding='utf-8',errors='ignore').read().split('\\n')\n",
        "convers=open('/content/drive/MyDrive/cornelldataset/movie_conversations.txt',encoding='utf-8',errors='ignore').read().split('\\n')\n"
      ],
      "execution_count": 5,
      "outputs": []
    },
    {
      "cell_type": "code",
      "metadata": {
        "id": "-sZycIXLB63v"
      },
      "source": [
        "import re\n",
        "import numpy as np\n",
        "from keras.preprocessing.sequence import pad_sequences\n",
        "from tensorflow.keras.utils import to_categorical\n",
        "from tensorflow.keras.preprocessing.sequence import pad_sequences\n",
        "from tensorflow.keras.utils import to_categorical\n",
        "from tensorflow.keras.models import Model\n",
        "from tensorflow.keras.layers import Dense, Embedding, LSTM, Input\n",
        "from keras.utils.vis_utils import plot_model\n",
        "import numpy as np\n"
      ],
      "execution_count": 6,
      "outputs": []
    },
    {
      "cell_type": "markdown",
      "metadata": {
        "id": "jcsyMy22wwhG"
      },
      "source": [
        "**About the data**\n",
        "\n",
        "The cornell movie dataset contains two files. The conversation file contains contais the whole converstion of given ID and lines file contains the Id and dialog."
      ]
    },
    {
      "cell_type": "code",
      "metadata": {
        "colab": {
          "base_uri": "https://localhost:8080/"
        },
        "id": "Dm14E_nnzjEn",
        "outputId": "274c3b1f-64e0-4028-8449-781da157893a"
      },
      "source": [
        "len(lines)"
      ],
      "execution_count": 7,
      "outputs": [
        {
          "output_type": "execute_result",
          "data": {
            "text/plain": [
              "304714"
            ]
          },
          "metadata": {
            "tags": []
          },
          "execution_count": 7
        }
      ]
    },
    {
      "cell_type": "code",
      "metadata": {
        "colab": {
          "base_uri": "https://localhost:8080/"
        },
        "id": "NYyFq3bi0BEJ",
        "outputId": "c1262a2b-0263-4432-f363-a9d9c0bde2a4"
      },
      "source": [
        "len(convers)"
      ],
      "execution_count": 8,
      "outputs": [
        {
          "output_type": "execute_result",
          "data": {
            "text/plain": [
              "83098"
            ]
          },
          "metadata": {
            "tags": []
          },
          "execution_count": 8
        }
      ]
    },
    {
      "cell_type": "markdown",
      "metadata": {
        "id": "ujO3NyQdAoRC"
      },
      "source": [
        "**PreProcess data**\n",
        "\n",
        "\n",
        "* \n"
      ]
    },
    {
      "cell_type": "code",
      "metadata": {
        "id": "YrjckJ1yIJhw"
      },
      "source": [
        "exchn = []\n",
        "for conver in convers:\n",
        "  \n",
        "    exchn.append(conver.split(' +++$+++ ')[-1][1:-1].replace(\"'\", \"\").replace(\",\",\"\").split())\n",
        "\n",
        "diag = {}\n",
        "for line in lines:\n",
        "    diag[line.split(' +++$+++ ')[0]] = line.split(' +++$+++ ')[-1]\n",
        "\n",
        "questions = []\n",
        "answers = []\n",
        "\n",
        "for conver in exchn:\n",
        "\n",
        "  for i in range(len(conver) - 1):\n",
        "\n",
        "      questions.append(diag[conver[i]])\n",
        "      answers.append(diag[conver[i+1]])\n",
        "\n",
        "#max length of 13\n",
        "sorted_ques = []\n",
        "sorted_ans = []\n",
        "for i in range(len(questions)):\n",
        "    if len(questions[i]) < 13:\n",
        "        sorted_ques.append(questions[i])\n",
        "        sorted_ans.append(answers[i])\n",
        "\n",
        "def clean_text(txt):\n",
        "    txt = txt.lower()\n",
        "    txt = re.sub(r\"i'm\", \"i am\", txt)\n",
        "    txt = re.sub(r\"he's\", \"he is\", txt)\n",
        "    txt = re.sub(r\"she's\", \"she is\", txt)\n",
        "    txt = re.sub(r\"that's\", \"that is\", txt)\n",
        "    txt = re.sub(r\"what's\", \"what is\", txt)\n",
        "    txt = re.sub(r\"where's\", \"where is\", txt)\n",
        "    txt = re.sub(r\"\\'ll\", \" will\", txt)\n",
        "    txt = re.sub(r\"\\'ve\", \" have\", txt)\n",
        "    txt = re.sub(r\"\\'re\", \" are\", txt)\n",
        "    txt = re.sub(r\"\\'d\", \" would\", txt)\n",
        "    txt = re.sub(r\"won't\", \"will not\", txt)\n",
        "    txt = re.sub(r\"can't\", \"can not\", txt)\n",
        "    txt = re.sub(r\"[^\\w\\s]\", \"\", txt)\n",
        "    return txt\n",
        "\n",
        "clean_ques = []\n",
        "clean_ans = []\n",
        "\n",
        "for line in sorted_ques:\n",
        "    clean_ques.append(clean_text(line))\n",
        "        \n",
        "for line in sorted_ans:\n",
        "    clean_ans.append(clean_text(line))\n",
        "\n",
        "for i in range(len(clean_ans)):\n",
        "    clean_ans[i] = ' '.join(clean_ans[i].split()[:11])\n",
        "\n",
        "#since data is big we will only take its portion\n",
        "## trimming\n",
        "clean_ans=clean_ans[:80000]\n",
        "clean_ques=clean_ques[:80000]\n",
        "\n",
        "#count occurences \n",
        "word2count = {}\n",
        "\n",
        "for line in clean_ques:\n",
        "    for word in line.split():\n",
        "        if word not in word2count:\n",
        "            word2count[word] = 1\n",
        "        else:\n",
        "            word2count[word] += 1\n",
        "for line in clean_ans:\n",
        "    for word in line.split():\n",
        "        if word not in word2count:\n",
        "            word2count[word] = 1\n",
        "        else:\n",
        "            word2count[word] += 1\n",
        "\n",
        "#remove less frequent frequent word\n",
        "thresh = 5\n",
        "vocab = {}\n",
        "word_num = 0\n",
        "for word, count in word2count.items():\n",
        "    if count >= thresh:\n",
        "        vocab[word] = word_num\n",
        "        word_num += 1\n",
        " \n",
        " # Add the Special tokens\n",
        "for i in range(len(clean_ans)):\n",
        "    clean_ans[i] = '<SOS> ' + clean_ans[i] + ' <EOS>'\n",
        "\n",
        "tokens = ['<PAD>', '<EOS>', '<UNKN>', '<SOS>']\n",
        "x = len(vocab)\n",
        "for token in tokens:\n",
        "    vocab[token] = x\n",
        "    x += 1\n",
        "    \n",
        "vocab['cameron'] = vocab['<PAD>']\n",
        "vocab['<PAD>'] = 0\n",
        "\n",
        "#inv answers dict\n",
        "inv_vocab = {w:v for v, w in vocab.items()}\n",
        "\n",
        "\n",
        "encoder_inp = []\n",
        "for line in clean_ques:\n",
        "    lst = []\n",
        "    for word in line.split():\n",
        "        if word not in vocab:\n",
        "            lst.append(vocab['<UNKN>'])\n",
        "        else:\n",
        "            lst.append(vocab[word])\n",
        "        \n",
        "    encoder_inp.append(lst)\n",
        "\n",
        "decoder_inp = []\n",
        "for line in clean_ans:\n",
        "    lst = []\n",
        "    for word in line.split():\n",
        "        if word not in vocab:\n",
        "            lst.append(vocab['<UNKN>'])\n",
        "        else:\n",
        "            lst.append(vocab[word])        \n",
        "    decoder_inp.append(lst)\n",
        "\n",
        "\n",
        "\n",
        "encoder_inp = pad_sequences(encoder_inp, 13, padding='post', truncating='post')\n",
        "decoder_inp = pad_sequences(decoder_inp, 13, padding='post', truncating='post')\n",
        "\n",
        "\n",
        "\n",
        "\n",
        "decoder_final_output = []\n",
        "for i in decoder_inp:\n",
        "    decoder_final_output.append(i[1:]) \n",
        "\n",
        "\n",
        "\n",
        "decoder_final_output = pad_sequences(decoder_final_output, 13, padding='post', truncating='post')\n",
        "\n",
        "decoder_final_output = to_categorical(decoder_final_output, len(vocab))\n",
        "\n",
        "#split data into train and test\n",
        "encoder_inp_train = encoder_inp[:50000]\n",
        "decoder_inp_train=decoder_inp[:50000]\n",
        "\n",
        "encoder_inp_test=encoder_inp[50000:]\n",
        "decoder_inp_test=decoder_inp[50000:]\n",
        "x_test=[encoder_inp_test,decoder_inp_test]\n",
        "decoder_final_output=decoder_final_output[:50000]\n",
        "y_train=decoder_final_output\n",
        "y_test=decoder_final_output[50000:]\n"
      ],
      "execution_count": 9,
      "outputs": []
    },
    {
      "cell_type": "markdown",
      "metadata": {
        "id": "RrVi3HuyImke"
      },
      "source": [
        "**Build the Neural Network**\n",
        "\n",
        "We will build a special kind of model called 'sequence to sequence' (seq2seq in short). You can separate the entire model into 2 small sub-models. The first sub-model is called as [E] Encoder, and the second sub-model is called as [D] Decoder. [E] takes a raw input text data just like any other RNN architectures do. At the end, [E] outputs a neural representation. This is a very typical work, but you need to pay attention what this output really is. The output of [E] is going to be the input data for [D].\n",
        "\n",
        "That is why we call [E] as Encoder and [D] as Decoder. [E] makes an output encoded in neural representational form, and we don't know what it really is. It is somewhat encrypted. [D] has the ability to look inside the [E]'s output, and it will create a totally different output data (Bot answer in this case)."
      ]
    },
    {
      "cell_type": "markdown",
      "metadata": {
        "id": "82T_6Bo7DD-I"
      },
      "source": [
        ""
      ]
    },
    {
      "cell_type": "code",
      "metadata": {
        "colab": {
          "base_uri": "https://localhost:8080/"
        },
        "id": "I_Dm7AmmZpuV",
        "outputId": "75015dc9-5e3b-44da-f654-14259110f9ef"
      },
      "source": [
        "\n",
        "\n",
        "\n",
        "enc_inp = Input(shape=(13, ))\n",
        "\n",
        "\n",
        "#Embading layer\n",
        "VOCAB_SIZE = len(vocab)\n",
        "embed = Embedding(VOCAB_SIZE+1, output_dim=50, \n",
        "                  input_length=13,\n",
        "                  trainable=True                  \n",
        "                  )\n",
        "\n",
        "#encoder LSTM Layer\n",
        "enc_embed = embed(enc_inp)\n",
        "enc_lstm = LSTM(400, return_sequences=True, return_state=True)\n",
        "enc_op, h, c = enc_lstm(enc_embed)\n",
        "enc_states = [h, c] #enc_states is input for decoder \n",
        "\n",
        "dec_inp = Input(shape=(13, ))\n",
        "#Decoder LSTM Layer\n",
        "dec_embed = embed(dec_inp)\n",
        "dec_lstm = LSTM(400, return_sequences=True, return_state=True)\n",
        "dec_op, _, _ = dec_lstm(dec_embed, initial_state=enc_states)\n",
        "\n",
        "\n",
        "#dense Layer\n",
        "dense = Dense(VOCAB_SIZE, activation='softmax')\n",
        "dense_op = dense(dec_op)\n",
        "\n",
        "#Create model\n",
        "model = Model([enc_inp, dec_inp], dense_op)\n",
        "\n",
        "#compile model\n",
        "model.compile(loss='categorical_crossentropy',metrics=['acc'],optimizer='adam')\n",
        "\n",
        "#plot the model\n",
        "plot_model(model, to_file='model.png', show_shapes=True)\n",
        "\n",
        "\n",
        "#Train model on our preprocess data\n",
        "#this model is used to build encoder and decoder\n",
        "#model.fit([encoder_inp, decoder_inp],decoder_final_output,epochs=20)\n",
        "model.fit([encoder_inp_train, decoder_inp_train],y_train,epochs=100)\n",
        "\n",
        "#saving the model\n",
        "model.save(\"/content/drive/MyDrive/seq2seq _Model\")\n",
        "\n",
        "\n",
        "  \n",
        "\n"
      ],
      "execution_count": 10,
      "outputs": [
        {
          "output_type": "stream",
          "text": [
            "Epoch 1/100\n",
            "982/982 [==============================] - 47s 14ms/step - loss: 3.5042 - acc: 0.4618\n",
            "Epoch 2/100\n",
            "982/982 [==============================] - 13s 13ms/step - loss: 2.7847 - acc: 0.5284\n",
            "Epoch 3/100\n",
            "982/982 [==============================] - 13s 13ms/step - loss: 2.6227 - acc: 0.5403\n",
            "Epoch 4/100\n",
            "982/982 [==============================] - 13s 13ms/step - loss: 2.5347 - acc: 0.5465\n",
            "Epoch 5/100\n",
            "982/982 [==============================] - 13s 13ms/step - loss: 2.4750 - acc: 0.5497\n",
            "Epoch 6/100\n",
            "982/982 [==============================] - 13s 14ms/step - loss: 2.4259 - acc: 0.5527\n",
            "Epoch 7/100\n",
            "982/982 [==============================] - 13s 13ms/step - loss: 2.3655 - acc: 0.5564\n",
            "Epoch 8/100\n",
            "982/982 [==============================] - 13s 13ms/step - loss: 2.3093 - acc: 0.5600\n",
            "Epoch 9/100\n",
            "982/982 [==============================] - 13s 14ms/step - loss: 2.2699 - acc: 0.5624\n",
            "Epoch 10/100\n",
            "982/982 [==============================] - 13s 13ms/step - loss: 2.2239 - acc: 0.5629\n",
            "Epoch 11/100\n",
            "982/982 [==============================] - 13s 13ms/step - loss: 2.1821 - acc: 0.5649\n",
            "Epoch 12/100\n",
            "982/982 [==============================] - 13s 13ms/step - loss: 2.1428 - acc: 0.5669\n",
            "Epoch 13/100\n",
            "982/982 [==============================] - 13s 13ms/step - loss: 2.0922 - acc: 0.5717\n",
            "Epoch 14/100\n",
            "982/982 [==============================] - 13s 14ms/step - loss: 2.0538 - acc: 0.5752\n",
            "Epoch 15/100\n",
            "982/982 [==============================] - 13s 14ms/step - loss: 2.0048 - acc: 0.5811\n",
            "Epoch 16/100\n",
            "982/982 [==============================] - 13s 14ms/step - loss: 1.9610 - acc: 0.5861\n",
            "Epoch 17/100\n",
            "982/982 [==============================] - 13s 13ms/step - loss: 1.9348 - acc: 0.5892\n",
            "Epoch 18/100\n",
            "982/982 [==============================] - 13s 13ms/step - loss: 1.8860 - acc: 0.5953\n",
            "Epoch 19/100\n",
            "982/982 [==============================] - 13s 13ms/step - loss: 1.8462 - acc: 0.6016\n",
            "Epoch 20/100\n",
            "982/982 [==============================] - 13s 13ms/step - loss: 1.8122 - acc: 0.6063\n",
            "Epoch 21/100\n",
            "982/982 [==============================] - 13s 13ms/step - loss: 1.7794 - acc: 0.6114\n",
            "Epoch 22/100\n",
            "982/982 [==============================] - 13s 14ms/step - loss: 1.7474 - acc: 0.6174\n",
            "Epoch 23/100\n",
            "982/982 [==============================] - 13s 14ms/step - loss: 1.7132 - acc: 0.6232\n",
            "Epoch 24/100\n",
            "982/982 [==============================] - 14s 14ms/step - loss: 1.6733 - acc: 0.6308\n",
            "Epoch 25/100\n",
            "982/982 [==============================] - 14s 14ms/step - loss: 1.6547 - acc: 0.6325\n",
            "Epoch 26/100\n",
            "982/982 [==============================] - 14s 14ms/step - loss: 1.6263 - acc: 0.6383\n",
            "Epoch 27/100\n",
            "982/982 [==============================] - 14s 14ms/step - loss: 1.5955 - acc: 0.6444\n",
            "Epoch 28/100\n",
            "982/982 [==============================] - 14s 14ms/step - loss: 1.5661 - acc: 0.6506\n",
            "Epoch 29/100\n",
            "982/982 [==============================] - 14s 14ms/step - loss: 1.5259 - acc: 0.6571\n",
            "Epoch 30/100\n",
            "982/982 [==============================] - 14s 14ms/step - loss: 1.4993 - acc: 0.6631\n",
            "Epoch 31/100\n",
            "982/982 [==============================] - 14s 14ms/step - loss: 1.4816 - acc: 0.6659\n",
            "Epoch 32/100\n",
            "982/982 [==============================] - 14s 14ms/step - loss: 1.4505 - acc: 0.6727\n",
            "Epoch 33/100\n",
            "982/982 [==============================] - 14s 14ms/step - loss: 1.4259 - acc: 0.6780\n",
            "Epoch 34/100\n",
            "982/982 [==============================] - 14s 14ms/step - loss: 1.3998 - acc: 0.6831\n",
            "Epoch 35/100\n",
            "982/982 [==============================] - 14s 14ms/step - loss: 1.3723 - acc: 0.6891\n",
            "Epoch 36/100\n",
            "982/982 [==============================] - 14s 14ms/step - loss: 1.3443 - acc: 0.6957\n",
            "Epoch 37/100\n",
            "982/982 [==============================] - 14s 14ms/step - loss: 1.3208 - acc: 0.7001\n",
            "Epoch 38/100\n",
            "982/982 [==============================] - 14s 14ms/step - loss: 1.2923 - acc: 0.7064\n",
            "Epoch 39/100\n",
            "982/982 [==============================] - 14s 14ms/step - loss: 1.2725 - acc: 0.7107\n",
            "Epoch 40/100\n",
            "982/982 [==============================] - 14s 14ms/step - loss: 1.2519 - acc: 0.7148\n",
            "Epoch 41/100\n",
            "982/982 [==============================] - 14s 14ms/step - loss: 1.2293 - acc: 0.7196\n",
            "Epoch 42/100\n",
            "982/982 [==============================] - 14s 14ms/step - loss: 1.2093 - acc: 0.7249\n",
            "Epoch 43/100\n",
            "982/982 [==============================] - 14s 14ms/step - loss: 1.1827 - acc: 0.7310\n",
            "Epoch 44/100\n",
            "982/982 [==============================] - 14s 14ms/step - loss: 1.1637 - acc: 0.7355\n",
            "Epoch 45/100\n",
            "982/982 [==============================] - 14s 14ms/step - loss: 1.1504 - acc: 0.7387\n",
            "Epoch 46/100\n",
            "982/982 [==============================] - 14s 14ms/step - loss: 1.1286 - acc: 0.7435\n",
            "Epoch 47/100\n",
            "982/982 [==============================] - 14s 14ms/step - loss: 1.1081 - acc: 0.7482\n",
            "Epoch 48/100\n",
            "982/982 [==============================] - 14s 14ms/step - loss: 1.0868 - acc: 0.7529\n",
            "Epoch 49/100\n",
            "982/982 [==============================] - 14s 14ms/step - loss: 1.0686 - acc: 0.7570\n",
            "Epoch 50/100\n",
            "982/982 [==============================] - 14s 14ms/step - loss: 1.0433 - acc: 0.7625\n",
            "Epoch 51/100\n",
            "982/982 [==============================] - 14s 14ms/step - loss: 1.0286 - acc: 0.7659\n",
            "Epoch 52/100\n",
            "982/982 [==============================] - 14s 14ms/step - loss: 1.0191 - acc: 0.7684\n",
            "Epoch 53/100\n",
            "982/982 [==============================] - 14s 14ms/step - loss: 0.9963 - acc: 0.7733\n",
            "Epoch 54/100\n",
            "982/982 [==============================] - 14s 14ms/step - loss: 0.9805 - acc: 0.7773\n",
            "Epoch 55/100\n",
            "982/982 [==============================] - 14s 14ms/step - loss: 0.9674 - acc: 0.7798\n",
            "Epoch 56/100\n",
            "982/982 [==============================] - 14s 14ms/step - loss: 0.9544 - acc: 0.7831\n",
            "Epoch 57/100\n",
            "982/982 [==============================] - 14s 14ms/step - loss: 0.9410 - acc: 0.7864\n",
            "Epoch 58/100\n",
            "982/982 [==============================] - 14s 14ms/step - loss: 0.9185 - acc: 0.7912\n",
            "Epoch 59/100\n",
            "982/982 [==============================] - 14s 14ms/step - loss: 0.9084 - acc: 0.7939\n",
            "Epoch 60/100\n",
            "982/982 [==============================] - 14s 14ms/step - loss: 0.8973 - acc: 0.7965\n",
            "Epoch 61/100\n",
            "982/982 [==============================] - 14s 14ms/step - loss: 0.8837 - acc: 0.7989\n",
            "Epoch 62/100\n",
            "982/982 [==============================] - 14s 14ms/step - loss: 0.8699 - acc: 0.8036\n",
            "Epoch 63/100\n",
            "982/982 [==============================] - 14s 14ms/step - loss: 0.8615 - acc: 0.8054\n",
            "Epoch 64/100\n",
            "982/982 [==============================] - 14s 14ms/step - loss: 0.8479 - acc: 0.8088\n",
            "Epoch 65/100\n",
            "982/982 [==============================] - 14s 14ms/step - loss: 0.8349 - acc: 0.8103\n",
            "Epoch 66/100\n",
            "982/982 [==============================] - 14s 14ms/step - loss: 0.8259 - acc: 0.8136\n",
            "Epoch 67/100\n",
            "982/982 [==============================] - 14s 14ms/step - loss: 0.8131 - acc: 0.8165\n",
            "Epoch 68/100\n",
            "982/982 [==============================] - 13s 13ms/step - loss: 0.8011 - acc: 0.8191\n",
            "Epoch 69/100\n",
            "982/982 [==============================] - 13s 14ms/step - loss: 0.7967 - acc: 0.8191\n",
            "Epoch 70/100\n",
            "982/982 [==============================] - 13s 13ms/step - loss: 0.7816 - acc: 0.8238\n",
            "Epoch 71/100\n",
            "982/982 [==============================] - 13s 14ms/step - loss: 0.7736 - acc: 0.8254\n",
            "Epoch 72/100\n",
            "982/982 [==============================] - 13s 14ms/step - loss: 0.7673 - acc: 0.8263\n",
            "Epoch 73/100\n",
            "982/982 [==============================] - 14s 14ms/step - loss: 0.7531 - acc: 0.8300\n",
            "Epoch 74/100\n",
            "982/982 [==============================] - 14s 14ms/step - loss: 0.7447 - acc: 0.8322\n",
            "Epoch 75/100\n",
            "982/982 [==============================] - 14s 14ms/step - loss: 0.7337 - acc: 0.8334\n",
            "Epoch 76/100\n",
            "982/982 [==============================] - 14s 14ms/step - loss: 0.7241 - acc: 0.8367\n",
            "Epoch 77/100\n",
            "982/982 [==============================] - 14s 14ms/step - loss: 0.7187 - acc: 0.8377\n",
            "Epoch 78/100\n",
            "982/982 [==============================] - 14s 14ms/step - loss: 0.7129 - acc: 0.8396\n",
            "Epoch 79/100\n",
            "982/982 [==============================] - 14s 14ms/step - loss: 0.7013 - acc: 0.8416\n",
            "Epoch 80/100\n",
            "982/982 [==============================] - 14s 14ms/step - loss: 0.7001 - acc: 0.8416\n",
            "Epoch 81/100\n",
            "982/982 [==============================] - 14s 14ms/step - loss: 0.6891 - acc: 0.8445\n",
            "Epoch 82/100\n",
            "982/982 [==============================] - 14s 14ms/step - loss: 0.6815 - acc: 0.8467\n",
            "Epoch 83/100\n",
            "982/982 [==============================] - 14s 14ms/step - loss: 0.6800 - acc: 0.8457\n",
            "Epoch 84/100\n",
            "982/982 [==============================] - 14s 14ms/step - loss: 0.6679 - acc: 0.8492\n",
            "Epoch 85/100\n",
            "982/982 [==============================] - 14s 14ms/step - loss: 0.6666 - acc: 0.8491\n",
            "Epoch 86/100\n",
            "982/982 [==============================] - 14s 14ms/step - loss: 0.6628 - acc: 0.8500\n",
            "Epoch 87/100\n",
            "982/982 [==============================] - 14s 14ms/step - loss: 0.6501 - acc: 0.8532\n",
            "Epoch 88/100\n",
            "982/982 [==============================] - 14s 14ms/step - loss: 0.6487 - acc: 0.8526\n",
            "Epoch 89/100\n",
            "982/982 [==============================] - 14s 14ms/step - loss: 0.6434 - acc: 0.8537\n",
            "Epoch 90/100\n",
            "982/982 [==============================] - 14s 14ms/step - loss: 0.6354 - acc: 0.8559\n",
            "Epoch 91/100\n",
            "982/982 [==============================] - 14s 14ms/step - loss: 0.6331 - acc: 0.8565\n",
            "Epoch 92/100\n",
            "982/982 [==============================] - 14s 14ms/step - loss: 0.6241 - acc: 0.8591\n",
            "Epoch 93/100\n",
            "982/982 [==============================] - 14s 14ms/step - loss: 0.6163 - acc: 0.8602\n",
            "Epoch 94/100\n",
            "982/982 [==============================] - 14s 14ms/step - loss: 0.6132 - acc: 0.8611\n",
            "Epoch 95/100\n",
            "982/982 [==============================] - 13s 14ms/step - loss: 0.6118 - acc: 0.8607\n",
            "Epoch 96/100\n",
            "982/982 [==============================] - 14s 14ms/step - loss: 0.6053 - acc: 0.8627\n",
            "Epoch 97/100\n",
            "982/982 [==============================] - 14s 14ms/step - loss: 0.5991 - acc: 0.8645\n",
            "Epoch 98/100\n",
            "982/982 [==============================] - 14s 14ms/step - loss: 0.5971 - acc: 0.8644\n",
            "Epoch 99/100\n",
            "982/982 [==============================] - 14s 14ms/step - loss: 0.5942 - acc: 0.8653\n",
            "Epoch 100/100\n",
            "982/982 [==============================] - 13s 14ms/step - loss: 0.5919 - acc: 0.8646\n"
          ],
          "name": "stdout"
        },
        {
          "output_type": "stream",
          "text": [
            "WARNING:absl:Found untraced functions such as lstm_cell_6_layer_call_fn, lstm_cell_6_layer_call_and_return_conditional_losses, lstm_cell_7_layer_call_fn, lstm_cell_7_layer_call_and_return_conditional_losses, lstm_cell_6_layer_call_fn while saving (showing 5 of 10). These functions will not be directly callable after loading.\n",
            "WARNING:absl:Found untraced functions such as lstm_cell_6_layer_call_fn, lstm_cell_6_layer_call_and_return_conditional_losses, lstm_cell_7_layer_call_fn, lstm_cell_7_layer_call_and_return_conditional_losses, lstm_cell_6_layer_call_fn while saving (showing 5 of 10). These functions will not be directly callable after loading.\n"
          ],
          "name": "stderr"
        },
        {
          "output_type": "stream",
          "text": [
            "INFO:tensorflow:Assets written to: /content/drive/MyDrive/seq2seq _Model/assets\n"
          ],
          "name": "stdout"
        },
        {
          "output_type": "stream",
          "text": [
            "INFO:tensorflow:Assets written to: /content/drive/MyDrive/seq2seq _Model/assets\n"
          ],
          "name": "stderr"
        }
      ]
    },
    {
      "cell_type": "markdown",
      "metadata": {
        "id": "G9XkkQ1R8XqB"
      },
      "source": [
        "**Inference**"
      ]
    },
    {
      "cell_type": "markdown",
      "metadata": {
        "id": "07Z1_IKRyCJH"
      },
      "source": [
        "After training our model with the dataset which would be having the actual translation of the english sentences it is our turn to generate the translations in real time. This time we wont be having the real translation, so the output of the previous timestep goes as the input to the decoder. The inference is continued till we have reached the maximum number of words or any customized stop condition"
      ]
    },
    {
      "cell_type": "code",
      "metadata": {
        "colab": {
          "base_uri": "https://localhost:8080/",
          "height": 330
        },
        "id": "MlLIaqBa8XAY",
        "outputId": "9953e10f-c7c6-4b19-f305-8ca2950b7752"
      },
      "source": [
        "#Inference  To talk to chatbot\n",
        "#loading model\n",
        "from tensorflow import keras\n",
        "reconstructed_model = keras.models.load_model(\"/content/drive/MyDrive/seq2seq _Model\")\n",
        "\n",
        "# The reconstructed model is already compiled and has retained the optimizer\n",
        "# state, so training can resume:\n",
        "reconstructed_model.fit([encoder_inp_train, decoder_inp_train],y_train)\n",
        "\n",
        "#Encoder Model \n",
        "enc_model = Model([enc_inp], enc_states)\n",
        "\n",
        "\n",
        "\n",
        "# decoder Model\n",
        "decoder_state_input_h = Input(shape=(400,))\n",
        "decoder_state_input_c = Input(shape=(400,))\n",
        "\n",
        "decoder_states_inputs = [decoder_state_input_h, decoder_state_input_c]\n",
        "\n",
        "\n",
        "decoder_outputs, state_h, state_c = dec_lstm(dec_embed , \n",
        "                                    initial_state=decoder_states_inputs)\n",
        "\n",
        "\n",
        "decoder_states = [state_h, state_c]\n",
        "\n",
        "\n",
        "dec_model = Model([dec_inp]+ decoder_states_inputs,\n",
        "                                      [decoder_outputs]+ decoder_states)\n",
        "\n",
        "\n",
        "plot_model(enc_model, to_file='encoder_model.png', show_shapes=True)\n"
      ],
      "execution_count": 11,
      "outputs": [
        {
          "output_type": "stream",
          "text": [
            "982/982 [==============================] - 16s 14ms/step - loss: 0.6117 - acc: 0.8597\n"
          ],
          "name": "stdout"
        },
        {
          "output_type": "execute_result",
          "data": {
            "image/png": "[encoded data removed]",
            "text/plain": [
              "<IPython.core.display.Image object>"
            ]
          },
          "metadata": {
            "tags": []
          },
          "execution_count": 11
        }
      ]
    },
    {
      "cell_type": "code",
      "metadata": {
        "colab": {
          "base_uri": "https://localhost:8080/",
          "height": 267
        },
        "id": "tBlLslYmz_iL",
        "outputId": "3ea18297-deed-43da-ea59-7c9856080b0f"
      },
      "source": [
        "plot_model(dec_model, to_file='decoder_model.png', show_shapes=True)"
      ],
      "execution_count": 12,
      "outputs": [
        {
          "output_type": "execute_result",
          "data": {
            "image/png": "[encoded data removed]",
            "text/plain": [
              "<IPython.core.display.Image object>"
            ]
          },
          "metadata": {
            "tags": []
          },
          "execution_count": 12
        }
      ]
    },
    {
      "cell_type": "markdown",
      "metadata": {
        "id": "MQH1cf3Khp_T"
      },
      "source": [
        "**Implementation**"
      ]
    },
    {
      "cell_type": "code",
      "metadata": {
        "id": "taqw9oXvhnOC",
        "colab": {
          "base_uri": "https://localhost:8080/",
          "height": 1000
        },
        "outputId": "6b46f131-b638-40f1-e33f-b832f1169b6c"
      },
      "source": [
        "print(\"##########################################\")\n",
        "print(\"#       Welcome to Chatbot        #\")\n",
        "print(\"##########################################\")\n",
        "\n",
        "\n",
        "prepro1 = \"\"\n",
        "while prepro1 != 'q':\n",
        "    prepro1  = input(\"you : \")\n",
        "    ## prepro1 = \"Hello\"\n",
        "\n",
        "    prepro1 = clean_text(prepro1)\n",
        "    ## prepro1 = \"hello\"\n",
        "\n",
        "    prepro = [prepro1]\n",
        "    ## prepro1 = [\"hello\"]\n",
        "\n",
        "    txt = []\n",
        "    for x in prepro:\n",
        "        # x = \"hello\"\n",
        "        lst = []\n",
        "        for y in x.split():\n",
        "            ## y = \"hello\"\n",
        "            try:\n",
        "                lst.append(vocab[y])\n",
        "                ## vocab['hello'] = 454\n",
        "            except:\n",
        "                lst.append(vocab['<UNKN>'])\n",
        "        txt.append(lst)\n",
        "\n",
        "    ## txt = [[454]]\n",
        "    txt = pad_sequences(txt, 13, padding='post')\n",
        "\n",
        "    ## txt = [[454,0,0,0,.........13]]\n",
        "\n",
        "    stat = enc_model.predict( txt )\n",
        "\n",
        "    empty_target_seq = np.zeros( ( 1 , 1) )\n",
        "     ##   empty_target_seq = [0]\n",
        "\n",
        "\n",
        "    empty_target_seq[0, 0] = vocab['<SOS>']\n",
        "    ##    empty_target_seq = [255]\n",
        "\n",
        "    flag = False\n",
        "    decoded_translation = ''\n",
        "\n",
        "    while not flag :\n",
        "\n",
        "        dec_outputs , h, c= dec_model.predict([ empty_target_seq] + stat )\n",
        "        decoder_concat_input = dense(dec_outputs)\n",
        "        ## decoder_concat_input = [0.1, 0.2, .4, .0, ...............]#these are probability of each word provided by softmax function\n",
        "\n",
        "        sampled_word_index = np.argmax( decoder_concat_input[0, -1, :] ) #This takes value with max probability\n",
        "        ## sampled_word_index = [2]\n",
        "\n",
        "        sampled_word = inv_vocab[sampled_word_index] + ' '\n",
        "\n",
        "        ## inv_vocab[2] = 'hi'\n",
        "        ## sampled_word = 'hi '\n",
        "\n",
        "        if sampled_word != '<EOS> ':\n",
        "            decoded_translation += sampled_word  \n",
        "\n",
        "        if sampled_word == '<EOS> ' or len(decoded_translation.split()) > 13:\n",
        "            flag = True \n",
        "        #resetting variables\n",
        "        empty_target_seq = np.zeros( ( 1 , 1 ) )  \n",
        "        empty_target_seq[ 0 , 0 ] = sampled_word_index\n",
        "        ## <SOS> - > hi\n",
        "        ## hi --> <EOS>\n",
        "        stat = [h, c]  \n",
        "\n",
        "    print(\"Bot : \", decoded_translation )\n",
        "    print(\"==============================================\")  "
      ],
      "execution_count": 13,
      "outputs": [
        {
          "output_type": "stream",
          "text": [
            "##########################################\n",
            "#       Welcome to Chatbot        #\n",
            "##########################################\n",
            "you : hi\n",
            "WARNING:tensorflow:Model was constructed with shape (None, 13) for input KerasTensor(type_spec=TensorSpec(shape=(None, 13), dtype=tf.float32, name='input_2'), name='input_2', description=\"created by layer 'input_2'\"), but it was called on an input with incompatible shape (None, 1).\n"
          ],
          "name": "stdout"
        },
        {
          "output_type": "stream",
          "text": [
            "WARNING:tensorflow:Model was constructed with shape (None, 13) for input KerasTensor(type_spec=TensorSpec(shape=(None, 13), dtype=tf.float32, name='input_2'), name='input_2', description=\"created by layer 'input_2'\"), but it was called on an input with incompatible shape (None, 1).\n"
          ],
          "name": "stderr"
        },
        {
          "output_type": "stream",
          "text": [
            "Bot :  hi \n",
            "==============================================\n",
            "you : what is your name\n",
            "Bot :  <UNKN> you <UNKN> they could <UNKN> <UNKN> in \n",
            "==============================================\n",
            "you : are you ok?\n",
            "Bot :  i am fine thank you \n",
            "==============================================\n",
            "you : how is weather?\n",
            "Bot :  fine \n",
            "==============================================\n",
            "you : do you wanna go out?\n",
            "Bot :  no not really <UNKN> \n",
            "==============================================\n",
            "you : bye\n",
            "Bot :  bye \n",
            "==============================================\n",
            "you : wanna have coffee?\n",
            "Bot :  no i am serious you are really much \n",
            "==============================================\n"
          ],
          "name": "stdout"
        },
        {
          "output_type": "error",
          "ename": "KeyboardInterrupt",
          "evalue": "ignored",
          "traceback": [
            "\u001b[0;31m---------------------------------------------------------------------------\u001b[0m",
            "\u001b[0;31mKeyboardInterrupt\u001b[0m                         Traceback (most recent call last)",
            "\u001b[0;32m/usr/local/lib/python3.7/dist-packages/ipykernel/kernelbase.py\u001b[0m in \u001b[0;36m_input_request\u001b[0;34m(self, prompt, ident, parent, password)\u001b[0m\n\u001b[1;32m    728\u001b[0m             \u001b[0;32mtry\u001b[0m\u001b[0;34m:\u001b[0m\u001b[0;34m\u001b[0m\u001b[0;34m\u001b[0m\u001b[0m\n\u001b[0;32m--> 729\u001b[0;31m                 \u001b[0mident\u001b[0m\u001b[0;34m,\u001b[0m \u001b[0mreply\u001b[0m \u001b[0;34m=\u001b[0m \u001b[0mself\u001b[0m\u001b[0;34m.\u001b[0m\u001b[0msession\u001b[0m\u001b[0;34m.\u001b[0m\u001b[0mrecv\u001b[0m\u001b[0;34m(\u001b[0m\u001b[0mself\u001b[0m\u001b[0;34m.\u001b[0m\u001b[0mstdin_socket\u001b[0m\u001b[0;34m,\u001b[0m \u001b[0;36m0\u001b[0m\u001b[0;34m)\u001b[0m\u001b[0;34m\u001b[0m\u001b[0;34m\u001b[0m\u001b[0m\n\u001b[0m\u001b[1;32m    730\u001b[0m             \u001b[0;32mexcept\u001b[0m \u001b[0mException\u001b[0m\u001b[0;34m:\u001b[0m\u001b[0;34m\u001b[0m\u001b[0;34m\u001b[0m\u001b[0m\n",
            "\u001b[0;32m/usr/local/lib/python3.7/dist-packages/jupyter_client/session.py\u001b[0m in \u001b[0;36mrecv\u001b[0;34m(self, socket, mode, content, copy)\u001b[0m\n\u001b[1;32m    802\u001b[0m         \u001b[0;32mtry\u001b[0m\u001b[0;34m:\u001b[0m\u001b[0;34m\u001b[0m\u001b[0;34m\u001b[0m\u001b[0m\n\u001b[0;32m--> 803\u001b[0;31m             \u001b[0mmsg_list\u001b[0m \u001b[0;34m=\u001b[0m \u001b[0msocket\u001b[0m\u001b[0;34m.\u001b[0m\u001b[0mrecv_multipart\u001b[0m\u001b[0;34m(\u001b[0m\u001b[0mmode\u001b[0m\u001b[0;34m,\u001b[0m \u001b[0mcopy\u001b[0m\u001b[0;34m=\u001b[0m\u001b[0mcopy\u001b[0m\u001b[0;34m)\u001b[0m\u001b[0;34m\u001b[0m\u001b[0;34m\u001b[0m\u001b[0m\n\u001b[0m\u001b[1;32m    804\u001b[0m         \u001b[0;32mexcept\u001b[0m \u001b[0mzmq\u001b[0m\u001b[0;34m.\u001b[0m\u001b[0mZMQError\u001b[0m \u001b[0;32mas\u001b[0m \u001b[0me\u001b[0m\u001b[0;34m:\u001b[0m\u001b[0;34m\u001b[0m\u001b[0;34m\u001b[0m\u001b[0m\n",
            "\u001b[0;32m/usr/local/lib/python3.7/dist-packages/zmq/sugar/socket.py\u001b[0m in \u001b[0;36mrecv_multipart\u001b[0;34m(self, flags, copy, track)\u001b[0m\n\u001b[1;32m    582\u001b[0m         \"\"\"\n\u001b[0;32m--> 583\u001b[0;31m         \u001b[0mparts\u001b[0m \u001b[0;34m=\u001b[0m \u001b[0;34m[\u001b[0m\u001b[0mself\u001b[0m\u001b[0;34m.\u001b[0m\u001b[0mrecv\u001b[0m\u001b[0;34m(\u001b[0m\u001b[0mflags\u001b[0m\u001b[0;34m,\u001b[0m \u001b[0mcopy\u001b[0m\u001b[0;34m=\u001b[0m\u001b[0mcopy\u001b[0m\u001b[0;34m,\u001b[0m \u001b[0mtrack\u001b[0m\u001b[0;34m=\u001b[0m\u001b[0mtrack\u001b[0m\u001b[0;34m)\u001b[0m\u001b[0;34m]\u001b[0m\u001b[0;34m\u001b[0m\u001b[0;34m\u001b[0m\u001b[0m\n\u001b[0m\u001b[1;32m    584\u001b[0m         \u001b[0;31m# have first part already, only loop while more to receive\u001b[0m\u001b[0;34m\u001b[0m\u001b[0;34m\u001b[0m\u001b[0;34m\u001b[0m\u001b[0m\n",
            "\u001b[0;32mzmq/backend/cython/socket.pyx\u001b[0m in \u001b[0;36mzmq.backend.cython.socket.Socket.recv\u001b[0;34m()\u001b[0m\n",
            "\u001b[0;32mzmq/backend/cython/socket.pyx\u001b[0m in \u001b[0;36mzmq.backend.cython.socket.Socket.recv\u001b[0;34m()\u001b[0m\n",
            "\u001b[0;32mzmq/backend/cython/socket.pyx\u001b[0m in \u001b[0;36mzmq.backend.cython.socket._recv_copy\u001b[0;34m()\u001b[0m\n",
            "\u001b[0;32m/usr/local/lib/python3.7/dist-packages/zmq/backend/cython/checkrc.pxd\u001b[0m in \u001b[0;36mzmq.backend.cython.checkrc._check_rc\u001b[0;34m()\u001b[0m\n",
            "\u001b[0;31mKeyboardInterrupt\u001b[0m: ",
            "\nDuring handling of the above exception, another exception occurred:\n",
            "\u001b[0;31mKeyboardInterrupt\u001b[0m                         Traceback (most recent call last)",
            "\u001b[0;32m<ipython-input-13-59660e709cd5>\u001b[0m in \u001b[0;36m<module>\u001b[0;34m()\u001b[0m\n\u001b[1;32m      6\u001b[0m \u001b[0mprepro1\u001b[0m \u001b[0;34m=\u001b[0m \u001b[0;34m\"\"\u001b[0m\u001b[0;34m\u001b[0m\u001b[0;34m\u001b[0m\u001b[0m\n\u001b[1;32m      7\u001b[0m \u001b[0;32mwhile\u001b[0m \u001b[0mprepro1\u001b[0m \u001b[0;34m!=\u001b[0m \u001b[0;34m'q'\u001b[0m\u001b[0;34m:\u001b[0m\u001b[0;34m\u001b[0m\u001b[0;34m\u001b[0m\u001b[0m\n\u001b[0;32m----> 8\u001b[0;31m     \u001b[0mprepro1\u001b[0m  \u001b[0;34m=\u001b[0m \u001b[0minput\u001b[0m\u001b[0;34m(\u001b[0m\u001b[0;34m\"you : \"\u001b[0m\u001b[0;34m)\u001b[0m\u001b[0;34m\u001b[0m\u001b[0;34m\u001b[0m\u001b[0m\n\u001b[0m\u001b[1;32m      9\u001b[0m     \u001b[0;31m## prepro1 = \"Hello\"\u001b[0m\u001b[0;34m\u001b[0m\u001b[0;34m\u001b[0m\u001b[0;34m\u001b[0m\u001b[0m\n\u001b[1;32m     10\u001b[0m \u001b[0;34m\u001b[0m\u001b[0m\n",
            "\u001b[0;32m/usr/local/lib/python3.7/dist-packages/ipykernel/kernelbase.py\u001b[0m in \u001b[0;36mraw_input\u001b[0;34m(self, prompt)\u001b[0m\n\u001b[1;32m    702\u001b[0m             \u001b[0mself\u001b[0m\u001b[0;34m.\u001b[0m\u001b[0m_parent_ident\u001b[0m\u001b[0;34m,\u001b[0m\u001b[0;34m\u001b[0m\u001b[0;34m\u001b[0m\u001b[0m\n\u001b[1;32m    703\u001b[0m             \u001b[0mself\u001b[0m\u001b[0;34m.\u001b[0m\u001b[0m_parent_header\u001b[0m\u001b[0;34m,\u001b[0m\u001b[0;34m\u001b[0m\u001b[0;34m\u001b[0m\u001b[0m\n\u001b[0;32m--> 704\u001b[0;31m             \u001b[0mpassword\u001b[0m\u001b[0;34m=\u001b[0m\u001b[0;32mFalse\u001b[0m\u001b[0;34m,\u001b[0m\u001b[0;34m\u001b[0m\u001b[0;34m\u001b[0m\u001b[0m\n\u001b[0m\u001b[1;32m    705\u001b[0m         )\n\u001b[1;32m    706\u001b[0m \u001b[0;34m\u001b[0m\u001b[0m\n",
            "\u001b[0;32m/usr/local/lib/python3.7/dist-packages/ipykernel/kernelbase.py\u001b[0m in \u001b[0;36m_input_request\u001b[0;34m(self, prompt, ident, parent, password)\u001b[0m\n\u001b[1;32m    732\u001b[0m             \u001b[0;32mexcept\u001b[0m \u001b[0mKeyboardInterrupt\u001b[0m\u001b[0;34m:\u001b[0m\u001b[0;34m\u001b[0m\u001b[0;34m\u001b[0m\u001b[0m\n\u001b[1;32m    733\u001b[0m                 \u001b[0;31m# re-raise KeyboardInterrupt, to truncate traceback\u001b[0m\u001b[0;34m\u001b[0m\u001b[0;34m\u001b[0m\u001b[0;34m\u001b[0m\u001b[0m\n\u001b[0;32m--> 734\u001b[0;31m                 \u001b[0;32mraise\u001b[0m \u001b[0mKeyboardInterrupt\u001b[0m\u001b[0;34m\u001b[0m\u001b[0;34m\u001b[0m\u001b[0m\n\u001b[0m\u001b[1;32m    735\u001b[0m             \u001b[0;32melse\u001b[0m\u001b[0;34m:\u001b[0m\u001b[0;34m\u001b[0m\u001b[0;34m\u001b[0m\u001b[0m\n\u001b[1;32m    736\u001b[0m                 \u001b[0;32mbreak\u001b[0m\u001b[0;34m\u001b[0m\u001b[0;34m\u001b[0m\u001b[0m\n",
            "\u001b[0;31mKeyboardInterrupt\u001b[0m: "
          ]
        }
      ]
    },
    {
      "cell_type": "code",
      "metadata": {
        "id": "RZWTVv8ZUC9T"
      },
      "source": [
        ""
      ],
      "execution_count": null,
      "outputs": []
    }
  ]
}